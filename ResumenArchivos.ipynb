{
 "cells": [
  {
   "attachments": {},
   "cell_type": "markdown",
   "metadata": {},
   "source": [
    "# Abrir archivos"
   ]
  },
  {
   "cell_type": "code",
   "execution_count": 2,
   "metadata": {},
   "outputs": [
    {
     "ename": "FileNotFoundError",
     "evalue": "[Errno 2] No such file or directory: 'archivo.txt'",
     "output_type": "error",
     "traceback": [
      "\u001b[1;31m---------------------------------------------------------------------------\u001b[0m",
      "\u001b[1;31mFileNotFoundError\u001b[0m                         Traceback (most recent call last)",
      "Cell \u001b[1;32mIn[2], line 1\u001b[0m\n\u001b[1;32m----> 1\u001b[0m \u001b[39mopen\u001b[39;49m(\u001b[39m'\u001b[39;49m\u001b[39marchivo.txt\u001b[39;49m\u001b[39m'\u001b[39;49m, \u001b[39m'\u001b[39;49m\u001b[39mr\u001b[39;49m\u001b[39m'\u001b[39;49m)\n\u001b[0;32m      2\u001b[0m \u001b[39m#open(file, mode='r', buffering=- 1, encoding=None, errors=None, newline=None, closefd=True, opener=None)\u001b[39;00m\n\u001b[0;32m      3\u001b[0m \u001b[39m# 'r' = modo lectura\u001b[39;00m\n\u001b[0;32m      4\u001b[0m \u001b[39m# 'w' = modo escritura (sobreescribe el anterior si ya esta creado)\u001b[39;00m\n\u001b[1;32m   (...)\u001b[0m\n\u001b[0;32m      8\u001b[0m \u001b[39m# 'b' = binario\u001b[39;00m\n\u001b[0;32m      9\u001b[0m \u001b[39m# 't' = txt (default)\u001b[39;00m\n",
      "File \u001b[1;32m~\\AppData\\Roaming\\Python\\Python311\\site-packages\\IPython\\core\\interactiveshell.py:284\u001b[0m, in \u001b[0;36m_modified_open\u001b[1;34m(file, *args, **kwargs)\u001b[0m\n\u001b[0;32m    277\u001b[0m \u001b[39mif\u001b[39;00m file \u001b[39min\u001b[39;00m {\u001b[39m0\u001b[39m, \u001b[39m1\u001b[39m, \u001b[39m2\u001b[39m}:\n\u001b[0;32m    278\u001b[0m     \u001b[39mraise\u001b[39;00m \u001b[39mValueError\u001b[39;00m(\n\u001b[0;32m    279\u001b[0m         \u001b[39mf\u001b[39m\u001b[39m\"\u001b[39m\u001b[39mIPython won\u001b[39m\u001b[39m'\u001b[39m\u001b[39mt let you open fd=\u001b[39m\u001b[39m{\u001b[39;00mfile\u001b[39m}\u001b[39;00m\u001b[39m by default \u001b[39m\u001b[39m\"\u001b[39m\n\u001b[0;32m    280\u001b[0m         \u001b[39m\"\u001b[39m\u001b[39mas it is likely to crash IPython. If you know what you are doing, \u001b[39m\u001b[39m\"\u001b[39m\n\u001b[0;32m    281\u001b[0m         \u001b[39m\"\u001b[39m\u001b[39myou can use builtins\u001b[39m\u001b[39m'\u001b[39m\u001b[39m open.\u001b[39m\u001b[39m\"\u001b[39m\n\u001b[0;32m    282\u001b[0m     )\n\u001b[1;32m--> 284\u001b[0m \u001b[39mreturn\u001b[39;00m io_open(file, \u001b[39m*\u001b[39;49margs, \u001b[39m*\u001b[39;49m\u001b[39m*\u001b[39;49mkwargs)\n",
      "\u001b[1;31mFileNotFoundError\u001b[0m: [Errno 2] No such file or directory: 'archivo.txt'"
     ]
    }
   ],
   "source": [
    "open('archivo.txt', 'r')\n",
    "#open(file, mode='r', buffering=- 1, encoding=None, errors=None, newline=None, closefd=True, opener=None)\n",
    "# 'r' = modo lectura\n",
    "# 'w' = modo escritura (sobreescribe el anterior si ya esta creado)\n",
    "# 'x' = crea el archivo, falla si ya existe\n",
    "# 'a' = append, agregar al final del archivo\n",
    "# 'r+' = Lectura y escritura\n",
    "# 'b' = binario\n",
    "# 't' = txt (default)"
   ]
  },
  {
   "cell_type": "code",
   "execution_count": null,
   "metadata": {},
   "outputs": [],
   "source": [
    "open(\"archivo.txt\", \"r\", encoding=\"utf-8\")\n",
    "# La codificacion si no es modificada usa el default del sistema, conviene cambiarla."
   ]
  },
  {
   "cell_type": "code",
   "execution_count": null,
   "metadata": {},
   "outputs": [],
   "source": [
    "with open(\"archivo.txt\", \"r\") as archivo:\n",
    "    contenido = archivo.read()\n",
    "# With es para usar los archivos de manera segura y más sencilla, el archivo se cierra automaticamente al salir del\n",
    "# bloque with"
   ]
  },
  {
   "cell_type": "code",
   "execution_count": null,
   "metadata": {},
   "outputs": [],
   "source": [
    "import os\n",
    "ruta = os.path.realpath(\".\")\n",
    "print(ruta)\n",
    "# Usamos os para sacar la locacion real de un archivo sin importar el sistema operativo"
   ]
  },
  {
   "attachments": {},
   "cell_type": "markdown",
   "metadata": {},
   "source": [
    "# Escribir y leer"
   ]
  },
  {
   "cell_type": "code",
   "execution_count": null,
   "metadata": {},
   "outputs": [],
   "source": [
    "# Si no usamos CVS o JSON entonces básicamente estamos escribiendo sin formato:\n",
    "f = open('archivo.txt', 'w')\n",
    "f.write(\"En Argentina nací\")\n",
    "f.write(\"Tierra del Diego y Lionel\")\n",
    "f.close()\n",
    "\n",
    "# Lo mismo con la lectura, acá por ejemplo leemos 3 caracteres\n",
    "f = open('archivo.txt', 'r')\n",
    "x = f.read(4)"
   ]
  },
  {
   "attachments": {},
   "cell_type": "markdown",
   "metadata": {},
   "source": [
    "# JSON:"
   ]
  },
  {
   "cell_type": "code",
   "execution_count": null,
   "metadata": {},
   "outputs": [
    {
     "name": "stdout",
     "output_type": "stream",
     "text": [
      "[{'nombre': 'William Campbell', 'ciudad': 'La Plata', 'ref': 'www.instagram.com/williamcampbellok'}, {'nombre': 'Buendia', 'ciudad': 'La Plata', 'ref': 'https://buendia.bandcamp.com/'}, {'nombre': 'Lúmine', 'ciudad': 'La Plata', 'ref': 'https://www.instagram.com/luminelp/'}]\n"
     ]
    }
   ],
   "source": [
    "# Si tenemos un formato para el dato podemos usar JSON:\n",
    "import json\n",
    "\n",
    "archivo = open(\"bandas.txt\", \"w\")\n",
    "datos = [\n",
    "    {\"nombre\": \"William Campbell\", \"ciudad\": \"La Plata\", \"ref\": \"www.instagram.com/williamcampbellok\"},\n",
    "    {\"nombre\": \"Buendia\", \"ciudad\": \"La Plata\", \"ref\":\"https://buendia.bandcamp.com/\"},\n",
    "    {\"nombre\": \"Lúmine\", \"ciudad\": \"La Plata\", \"ref\": \"https://www.instagram.com/luminelp/\"}]\n",
    "json.dump(datos, archivo)\n",
    "archivo.close()\n",
    "# json.dump escribe le objeto en el archivo. Tiene un monton de variables a modificar pero esas 2 sonlas necesarias\n",
    "\n",
    "archivo = open(\"bandas.txt\", \"r\")\n",
    "datos = json.load(archivo)\n",
    "print(datos)\n",
    "# Load por su parte saca un diccionario entero del archivo y te lo guarda"
   ]
  },
  {
   "attachments": {},
   "cell_type": "markdown",
   "metadata": {},
   "source": [
    "# Dumps y Loads"
   ]
  },
  {
   "cell_type": "code",
   "execution_count": null,
   "metadata": {},
   "outputs": [],
   "source": [
    "# Pasa un objeto a una cadena de caracteres que es como un json, pero no se escribe en un archivo ni nada\n",
    "# Para hacer algo así requerimos otros metodos\n",
    "import json\n",
    "\n",
    "# Objeto Python a convertir a JSON\n",
    "datos = {\n",
    "    \"nombre\": \"Juan\",\n",
    "    \"edad\": 30,\n",
    "    \"ciudad\": \"Buenos Aires\",\n",
    "    \"intereses\": [\"programación\", \"viajes\", \"cocina\"]\n",
    "}\n",
    "\n",
    "# Convertir el objeto Python a JSON\n",
    "json_string = json.dumps(datos, indent=4)\n",
    "\n",
    "# Imprimir la cadena de caracteres JSON resultante\n",
    "print(json_string)"
   ]
  },
  {
   "cell_type": "code",
   "execution_count": null,
   "metadata": {},
   "outputs": [],
   "source": [
    "# Pasa una cadena de caracteres a un objeto diccionario\n",
    "import json\n",
    "\n",
    "# Cadena de caracteres JSON a cargar\n",
    "cadena_json = '{\"nombre\": \"Juan\", \"edad\": 30, \"ciudad\": \"Buenos Aires\", \"intereses\": [\"programación\", \"viajes\", \"cocina\"]}'\n",
    "\n",
    "# Cargar la cadena JSON en un objeto Python\n",
    "datos = json.loads(cadena_json)\n",
    "\n",
    "# Acceder a los datos como un objeto Python\n",
    "print(datos[\"nombre\"])   # Juan\n",
    "print(datos[\"edad\"])     # 30\n",
    "print(datos[\"ciudad\"])   # Buenos Aires\n",
    "print(datos[\"intereses\"]) # ['programación', 'viajes', 'cocina']"
   ]
  },
  {
   "attachments": {},
   "cell_type": "markdown",
   "metadata": {},
   "source": [
    "# CSV"
   ]
  },
  {
   "cell_type": "code",
   "execution_count": null,
   "metadata": {},
   "outputs": [],
   "source": [
    "# CSV como el JSON es un formato para estructurar datos, cada linea del archivo es una lista de strings, separados\n",
    "# por nuestro delimiatar elegido, CSV normalmente es con ',' pero puede ser ';' en caso de excel. \n",
    "import csv\n",
    "\n",
    "ruta = os.path.dirname(os.path.realpath(\".\"))\n",
    "ruta_archivo = os.path.join(ruta, \"teorias\", \"ejemplos\",\"clase4\", \"netflix_titles.csv\")\n",
    "archivo = open(ruta_archivo, \"r\")\n",
    "\n",
    "csvreader = csv.reader(archivo, delimiter=',')\n",
    "encabezado = next(csvreader)\n",
    "# Leemos la siguiente linea (next es una funcion que retorna el siguiente del iterador), \n",
    "# podemos usar un for directamente\n",
    "print(encabezado)\n",
    "archivo.close()"
   ]
  },
  {
   "cell_type": "code",
   "execution_count": null,
   "metadata": {},
   "outputs": [],
   "source": [
    "archivo = open(ruta_archivo, \"r\")\n",
    "csvreader = csv.reader(archivo, delimiter=',')\n",
    "\n",
    "#encabezado = csvreader.__next__()\n",
    "encabezado = next(csvreader)\n",
    "print(encabezado)\n",
    "\n",
    "# Imprime todas las peliculas que en el string de pais de creacion sea Argentina, en forma de tabla, donde todo lo\n",
    "# impreso se alinea hacia la izquierda haciendo que alcance los 40 caracteres si o si (sino rellena).\n",
    "for linea in csvreader:\n",
    "    if linea[1] == \"Movie\" and linea[5] == \"Argentina\": \n",
    "        print(f\"{linea[2]:<40} {linea[3]}\")\n",
    "\n",
    "archivo.close()"
   ]
  },
  {
   "attachments": {},
   "cell_type": "markdown",
   "metadata": {},
   "source": [
    "# DictReader "
   ]
  },
  {
   "cell_type": "code",
   "execution_count": null,
   "metadata": {},
   "outputs": [],
   "source": [
    "# DictReader devuelve un objeto iterador que produce diccionarios en lugar de listas. Cada fila del archivo CSV se \n",
    "# convierte en un diccionario, las claves del diccionario son los encabezados de columna y los valores son \n",
    "# los valores en las celdas correspondientes de la fila.\n",
    "\n",
    "archivo = open(ruta_archivo, \"r\")\n",
    "csvreader = csv.DictReader(archivo, delimiter=',')\n",
    "\n",
    "shows_ar = filter(lambda x:  x[\"country\"] == \"Argentina\" and x[\"type\"] == \"Movie\", csvreader)\n",
    "\n",
    "for linea in shows_ar:\n",
    "    print(linea[\"title\"])\n",
    "\n",
    "archivo.close()"
   ]
  },
  {
   "attachments": {},
   "cell_type": "markdown",
   "metadata": {},
   "source": [
    "# Escribir en CSV"
   ]
  },
  {
   "cell_type": "code",
   "execution_count": null,
   "metadata": {},
   "outputs": [],
   "source": [
    "import csv\n",
    "import json\n",
    "\n",
    "archivo = open(\"bandas.txt\")\n",
    "archivo_csv = open(\"bandas.csv\", \"w\")\n",
    "\n",
    "bandas = json.load(archivo)\n",
    "\n",
    "writer = csv.writer(archivo_csv)\n",
    "writer.writerow([\"Nombre\", \"Ciudad de procedencia\", \"Refencias\"])\n",
    "for banda in bandas:\n",
    "    writer.writerow([banda[\"nombre\"], banda[\"ciudad\"], banda[\"ref\"]])\n",
    "\n",
    "archivo.close()\n",
    "archivo_csv.close()"
   ]
  }
 ],
 "metadata": {
  "kernelspec": {
   "display_name": "Python 3",
   "language": "python",
   "name": "python3"
  },
  "language_info": {
   "codemirror_mode": {
    "name": "ipython",
    "version": 3
   },
   "file_extension": ".py",
   "mimetype": "text/x-python",
   "name": "python",
   "nbconvert_exporter": "python",
   "pygments_lexer": "ipython3",
   "version": "3.11.2"
  },
  "orig_nbformat": 4
 },
 "nbformat": 4,
 "nbformat_minor": 2
}
