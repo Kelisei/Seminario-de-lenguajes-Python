{
 "cells": [
  {
   "cell_type": "markdown",
   "id": "attached-construction",
   "metadata": {
    "slideshow": {
     "slide_type": "slide"
    }
   },
   "source": [
    "# Seminario de Lenguajes - Python\n",
    "## Cursada 2023\n",
    "\n",
    "### Clase 1: conceptos básicos e introducción al lenguaje\n"
   ]
  },
  {
   "cell_type": "markdown",
   "id": "varied-biotechnology",
   "metadata": {
    "slideshow": {
     "slide_type": "slide"
    }
   },
   "source": [
    "# ¿Con qué términos asociás al lenguaje Python?\n",
    "\n",
    "- Completar: https://www.menti.com/bbh714ivt4\n",
    "\n",
    "<center>\n",
    "<img src=\"imagenes/qr_SL.png\" alt=\"Actividad inicial\" style=\"width:400px;\"/>\n",
    "</center>\n",
    "\n",
    "[Resultados](https://www.mentimeter.com/s/b3bb07356d1dde4b611f15ad78ad385e/0d5a351469a9)"
   ]
  },
  {
   "cell_type": "markdown",
   "id": "lesser-watch",
   "metadata": {
    "slideshow": {
     "slide_type": "slide"
    }
   },
   "source": [
    "# Empezamos con las encuestas ...\n",
    "\n",
    "Veamos en catedras.linti [Encuesta clase 1: sobre el SL](https://catedras.linti.unlp.edu.ar/mod/feedback/view.php?id=37310)\n",
    "\n",
    "\n",
    "```\n",
    "\n",
    "ENCUESTA 1: ¿saben qué es el software libre?\n",
    "Si - NO\n",
    "```\n",
    "\n",
    "\n"
   ]
  },
  {
   "cell_type": "markdown",
   "id": "certified-arcade",
   "metadata": {
    "slideshow": {
     "slide_type": "fragment"
    }
   },
   "source": [
    "```\n",
    "ENCUESTA 2: ¿usaron software libre?\n",
    "A: Si - B: NO - C: No se\n",
    "```\n"
   ]
  },
  {
   "cell_type": "markdown",
   "id": "printable-documentation",
   "metadata": {
    "slideshow": {
     "slide_type": "slide"
    }
   },
   "source": [
    "# El software  libre\n",
    "\n",
    "El **software libre** se refiere a la libertad de los usuarios para:\n",
    "- ejecutar, \n",
    "- copiar, \n",
    "- distribuir, \n",
    "- estudiar, \n",
    "- cambiar y mejorar el software. \n"
   ]
  },
  {
   "cell_type": "markdown",
   "id": "operational-revision",
   "metadata": {
    "slideshow": {
     "slide_type": "fragment"
    }
   },
   "source": [
    "\n",
    "La [definición del software libre](https://www.gnu.org/philosophy/free-sw.es.html) habla de **libertades**.\n",
    "\n",
    "> El acceso al código fuente es un requisito previo para esto.\n",
    "\n"
   ]
  },
  {
   "cell_type": "markdown",
   "id": "atomic-tampa",
   "metadata": {
    "slideshow": {
     "slide_type": "slide"
    }
   },
   "source": [
    "# ¿Por qué hablamos de software libre?"
   ]
  },
  {
   "cell_type": "markdown",
   "id": "egyptian-gallery",
   "metadata": {
    "slideshow": {
     "slide_type": "fragment"
    }
   },
   "source": [
    "- Nosotros vamos a usar software libre.\n",
    "- Vamos a proponer que nuestros desarrollos sean  software libre."
   ]
  },
  {
   "cell_type": "markdown",
   "id": "timely-monaco",
   "metadata": {
    "slideshow": {
     "slide_type": "slide"
    }
   },
   "source": [
    "# Hablemos de Python ...\n",
    "\n",
    "\n",
    "- Desarrollado por [Guido Van Rossum](https://es.wikipedia.org/wiki/Guido_van_Rossum) en el centro de investigación en Matemáticas CWI en Países Bajos.\n",
    "- El nombre proviene del grupo de cómicos ingleses [Monty Python](https://es.wikipedia.org/wiki/Monty_Python)\n",
    "- Es un lenguaje que en los últimos años ha crecido de manera constante. \n",
    "    - [Stack Overflow Trends\n",
    "](https://insights.stackoverflow.com/trends?tags=java%2Cc%2Cc%2B%2B%2Cpython%2Cc%23%2Cvb.net%2Cjavascript%2Cassembly%2Cphp%2Cperl%2Cruby%2Cvb%2Cswift%2Cr%2Cobjective-c)\n",
    "    - [https://githut.info/](https://githut.info/)\n",
    "\n",
    "\n",
    "\n"
   ]
  },
  {
   "cell_type": "markdown",
   "id": "bridal-smart",
   "metadata": {
    "slideshow": {
     "slide_type": "subslide"
    }
   },
   "source": [
    "# Documentación y referencias\n",
    "\n",
    "- Sitio Oficial: http://python.org/\n",
    "- Documentación en español: https://wiki.python.org/moin/SpanishLanguage\n",
    "- Python Argentina: http://python.org.ar/\n",
    "- Otras referencias:\n",
    "    - https://docs.python-guide.org/\n",
    "    - https://realpython.com/\n",
    "\n",
    "**IMPORTANTE**: en los tutoriales y cursos en línea **chequear la versión de Python**. \n",
    " "
   ]
  },
  {
   "cell_type": "markdown",
   "id": "bigger-determination",
   "metadata": {
    "slideshow": {
     "slide_type": "subslide"
    }
   },
   "source": [
    "# ¿Quiénes usan Python?\n",
    "\n",
    "Muchas [organizaciones](https://wiki.python.org/moin/OrganizationsUsingPython) han utilizado y utilizan Python para:\n",
    "- Producción de [efectos especiales]( https://www.python.org/about/success/ilm/) de películas. \n",
    "- En sistemas informáticos de la [NASA](https://www.python.org/about/success/usa/).\n",
    "- Desarrollo [web](https://wiki.python.org/moin/OrganizationsUsingPython#Web_Development). \n",
    "- En ámbito [científico](https://www.scipy.org/). \n",
    "- Enseñanza de la programación, etc\n",
    "\n",
    "- [+ Info:](https://realpython.com/world-class-companies-using-python/)"
   ]
  },
  {
   "cell_type": "markdown",
   "id": "immune-going",
   "metadata": {
    "slideshow": {
     "slide_type": "slide"
    }
   },
   "source": [
    "# Características del lenguaje\n",
    "\n",
    "- Es un lenguaje de alto nivel, fácil de aprender. Muy expresivo y legible. "
   ]
  },
  {
   "cell_type": "markdown",
   "id": "intermediate-replica",
   "metadata": {
    "slideshow": {
     "slide_type": "fragment"
    }
   },
   "source": [
    "```python\n",
    "numero_aleatorio = random.randrange(5)\n",
    "gane = False\n",
    "print(\"Tenés 2 intentos para adivinar un entre 0 y 4\")\n",
    "intento = 1\n",
    "\n",
    "while intento < 3 and not gane:\n",
    "    numero_ingresado = int(input(\"Ingresa tu número: \"))\n",
    "    if numero_ingresado == numero_aleatorio:\n",
    "        print(\"Ganaste!\")\n",
    "        gane = True\n",
    "    else:\n",
    "        print(\"Mmmm ... No.. ese número no es... Seguí intentando.\")\n",
    "        intento += 1\n",
    "if not gane:\n",
    "    print(\"Perdiste :(\")\n",
    "    print(\"El número era:\", numero_aleatorio)\n",
    "\n",
    "```\n",
    "- Sintaxis muy clara\n"
   ]
  },
  {
   "cell_type": "markdown",
   "id": "durable-tactics",
   "metadata": {
    "slideshow": {
     "slide_type": "subslide"
    }
   },
   "source": [
    "# Características del lenguaje (cont.)\n",
    "\n",
    "- Es **interpretado**, **multiplataforma** y **multiparadigma**: ¿qué significa?\n",
    "- Posee tipado dinámico y fuerte. \n",
    "- Tiene un eficiente manejo de estructuras de datos de alto nivel. "
   ]
  },
  {
   "cell_type": "markdown",
   "id": "irish-allah",
   "metadata": {
    "slideshow": {
     "slide_type": "slide"
    }
   },
   "source": [
    "# Primeros pasos \n",
    "\n",
    "- Hay [intérpretes en línea](https://repl.it/languages/python3).\n",
    "- Descargamos desde el [sitio oficial](https://www.python.org/).\n",
    "\n",
    "- Para **ejecutar** código Python:\n",
    "    - Usamos la consola de Python: donde se utiliza un modo interactivo y obtener una respuesta por cada línea. \n",
    "    - Usamos un IDE: como en cualquier otro lenguaje, se escribe el código en un archivo de texto y luego se invoca al intérprete para que lo ejecute.\n",
    "- [+Info](https://python-unlp.github.io/2023/guias/02/instalar_python/)  "
   ]
  },
  {
   "cell_type": "markdown",
   "id": "pretty-current",
   "metadata": {
    "slideshow": {
     "slide_type": "subslide"
    }
   },
   "source": [
    "# Algunas consideraciones \n",
    "\n",
    "- Se pueden utilizar [entornos virtuales](https://docs.python.org/3/tutorial/venv.html).\n",
    "    - [+Info](https://python-unlp.github.io/2023/guias/07/entornos_virtuales/)\n",
    "- Existe un gestor de paquetes que facilita la instalación de las distintas librerías: [pip](https://pypi.org/project/pip/).\n",
    "    - [+Info](https://python-unlp.github.io/2023/guias/08/manejo_de_paquetes/) "
   ]
  },
  {
   "cell_type": "markdown",
   "id": "thousand-establishment",
   "metadata": {
    "slideshow": {
     "slide_type": "slide"
    }
   },
   "source": [
    "#  Estamos usando [Jupyter notebook](https://jupyter.org/)"
   ]
  },
  {
   "cell_type": "code",
   "execution_count": 8,
   "id": "approximate-model",
   "metadata": {
    "slideshow": {
     "slide_type": "fragment"
    }
   },
   "outputs": [
    {
     "name": "stdout",
     "output_type": "stream",
     "text": [
      "Tenés 2 intentos para adivinar un entre 0 y 4\n",
      "Ingresa tu número: 2\n",
      "Ganaste!\n"
     ]
    }
   ],
   "source": [
    "## Adivina adivinador....\n",
    "import random\n",
    "numero_aleatorio = random.randrange(5)\n",
    "gane = False\n",
    "print(\"Tenés 2 intentos para adivinar un entre 0 y 4\")\n",
    "intento = 1\n",
    "\n",
    "while intento < 3 and not gane:\n",
    "    numero_ingresado = int(input('Ingresa tu número: '))\n",
    "    if numero_ingresado == numero_aleatorio:\n",
    "        print(\"Ganaste!\")\n",
    "        gane = True\n",
    "    else:\n",
    "        print('Mmmm ... No.. ese número no es... Seguí intentando.')\n",
    "        intento += 1\n",
    "if not gane:\n",
    "    print(\"Perdiste :(\")\n",
    "    print(\"El número era:\", numero_aleatorio)"
   ]
  },
  {
   "cell_type": "markdown",
   "id": "consistent-mission",
   "metadata": {
    "slideshow": {
     "slide_type": "slide"
    }
   },
   "source": [
    "# Empecemos por algo  más simple\n"
   ]
  },
  {
   "cell_type": "code",
   "execution_count": 9,
   "id": "antique-fleet",
   "metadata": {
    "slideshow": {
     "slide_type": "fragment"
    }
   },
   "outputs": [
    {
     "name": "stdout",
     "output_type": "stream",
     "text": [
      "21\n",
      "hola!¿Cómo están?\n"
     ]
    }
   ],
   "source": [
    "x = 21\n",
    "print(x)\n",
    "x ='hola!'\n",
    "print(x + '¿Cómo están?')"
   ]
  },
  {
   "cell_type": "markdown",
   "id": "clinical-faculty",
   "metadata": {
    "slideshow": {
     "slide_type": "fragment"
    }
   },
   "source": [
    "- ¿Algo que llame la atención respecto a otros lenguajes vistos?"
   ]
  },
  {
   "cell_type": "markdown",
   "id": "greater-programming",
   "metadata": {
    "slideshow": {
     "slide_type": "fragment"
    }
   },
   "source": [
    "- No hay una estructura de programa (tipo program.. begin.. end).\n",
    "- Las variables no se declaran. \n",
    "    - Las variables se crean **dinámicamente** cuando se les asigna un valor.\n",
    "- Las variables pueden cambiar de tipo a lo largo del programa.\n",
    "    - Python cuenta con **tipado dinámico**\n"
   ]
  },
  {
   "cell_type": "markdown",
   "id": "coupled-supply",
   "metadata": {
    "slideshow": {
     "slide_type": "slide"
    }
   },
   "source": [
    "# Un poco más de variables en Python\n",
    "\n",
    "Vamos el siguiente código. ¿Qué creen que imprime este código? "
   ]
  },
  {
   "cell_type": "code",
   "execution_count": 10,
   "id": "average-accident",
   "metadata": {
    "slideshow": {
     "slide_type": "fragment"
    }
   },
   "outputs": [
    {
     "ename": "NameError",
     "evalue": "name 'Texto_1' is not defined",
     "output_type": "error",
     "traceback": [
      "\u001b[0;31m---------------------------------------------------------------------------\u001b[0m",
      "\u001b[0;31mNameError\u001b[0m                                 Traceback (most recent call last)",
      "Cell \u001b[0;32mIn[10], line 2\u001b[0m\n\u001b[1;32m      1\u001b[0m texto_1 \u001b[38;5;241m=\u001b[39m \u001b[38;5;124m'\u001b[39m\u001b[38;5;124mEstamos haciendo\u001b[39m\u001b[38;5;124m'\u001b[39m\n\u001b[0;32m----> 2\u001b[0m \u001b[38;5;28mprint\u001b[39m(\u001b[43mTexto_1\u001b[49m \u001b[38;5;241m+\u001b[39m \u001b[38;5;124m'\u001b[39m\u001b[38;5;124m diferentes pruebas\u001b[39m\u001b[38;5;124m'\u001b[39m)\n",
      "\u001b[0;31mNameError\u001b[0m: name 'Texto_1' is not defined"
     ]
    }
   ],
   "source": [
    "texto_1 = 'Estamos haciendo'\n",
    "print(Texto_1 + ' diferentes pruebas')"
   ]
  },
  {
   "cell_type": "markdown",
   "id": "conceptual-spice",
   "metadata": {
    "slideshow": {
     "slide_type": "slide"
    }
   },
   "source": [
    "# Reglas de nombres\n",
    "\n",
    "- Python hace diferencia entre mayúsculas y minúsculas. \n",
    "    - Las variables **texto_1**  y **Texto_1** son DOS variables DISTINTAS.\n",
    "- Los nombre de las variables sólo pueden contener letras, dígitos y **_**. \n",
    "- Y **siempre** deben comenzar con letra. \n",
    "    - Vamos a ver que en algunos casos específicos pueden comenzar con  **_**, pero tienen un significado especial."
   ]
  },
  {
   "cell_type": "markdown",
   "id": "b8575f32",
   "metadata": {
    "slideshow": {
     "slide_type": "subslide"
    }
   },
   "source": [
    "###  No pueden usarse ninguna de las palabras claves del lenguaje.\n",
    "\n",
    "Probar **help(\"keywords\")**\n"
   ]
  },
  {
   "cell_type": "code",
   "execution_count": 11,
   "id": "59c08f1e",
   "metadata": {
    "slideshow": {
     "slide_type": "fragment"
    }
   },
   "outputs": [
    {
     "name": "stdout",
     "output_type": "stream",
     "text": [
      "\n",
      "Here is a list of the Python keywords.  Enter any keyword to get more help.\n",
      "\n",
      "False               class               from                or\n",
      "None                continue            global              pass\n",
      "True                def                 if                  raise\n",
      "and                 del                 import              return\n",
      "as                  elif                in                  try\n",
      "assert              else                is                  while\n",
      "async               except              lambda              with\n",
      "await               finally             nonlocal            yield\n",
      "break               for                 not                 \n",
      "\n"
     ]
    }
   ],
   "source": [
    "help(\"keywords\")"
   ]
  },
  {
   "cell_type": "markdown",
   "id": "optimum-convenience",
   "metadata": {
    "slideshow": {
     "slide_type": "slide"
    }
   },
   "source": [
    "# Asignación de  variables\n",
    "\n",
    "- Las variables permiten referenciar a los **objetos** almacenados en la memoria. \n",
    "- Asignar un valor a una variable indica que se va a \"apuntar\" o \"referenciar\" ese objeto a través de ese nombre de variable.\n",
    "- Cada objeto tiene asociado **un tipo, un valor y una identidad**.\n",
    "    - La identidad actúa como una referencia a la posición de memoria del  objeto.\n",
    "-Una vez que se crea un objeto, su identidad y tipo no se pueden cambiar."
   ]
  },
  {
   "cell_type": "markdown",
   "id": "068eae16",
   "metadata": {
    "slideshow": {
     "slide_type": "subslide"
    }
   },
   "source": [
    "## La identidad de un objeto\n",
    "\n",
    "- Podemos obtener la identidad de un objeto con la función **id()**."
   ]
  },
  {
   "cell_type": "code",
   "execution_count": 12,
   "id": "martial-theology",
   "metadata": {
    "slideshow": {
     "slide_type": "fragment"
    }
   },
   "outputs": [
    {
     "name": "stdout",
     "output_type": "stream",
     "text": [
      "140003835015408 140003835015408\n"
     ]
    }
   ],
   "source": [
    "a = \"hola\"\n",
    "b = a\n",
    "c = \"hola \"\n",
    "#print (a, b, c)\n",
    "print(id(b), id(a))"
   ]
  },
  {
   "cell_type": "markdown",
   "id": "driven-nightmare",
   "metadata": {
    "slideshow": {
     "slide_type": "slide"
    }
   },
   "source": [
    "# Respecto a los nombres de variables\n",
    "\n",
    "- Existen algunas convenciones que VAMOS a adoptar.\n",
    "- Si se trata de un nombre compuesto vamos a usar el símbolo \"_\" para separar. \n",
    "- Ejemplo:\n",
    "```python\n",
    "monto_adeudado = 100\n",
    "valor_de_reembolso = 10\n",
    "partida_pausada = True\n",
    "\n",
    "```\n",
    "- Algunas otras convenciones:\n",
    "    - Los nombres de variables comienzan con letras minúsculas.\n",
    "    - No usar nombres tales como \"l\" u \"O\" que se pueden confundir con unos y ceros.\n",
    "    \n"
   ]
  },
  {
   "cell_type": "markdown",
   "id": "centered-summary",
   "metadata": {
    "slideshow": {
     "slide_type": "slide"
    }
   },
   "source": [
    "# Python Enhancement Proposals (PEP)\n",
    "\n",
    "- Las PEP son documentos que proporcionan información a la comunidad de Python sobre distintas características del lenguaje, novedades en las distintas versiones, guías de codificación, etc.\n",
    "\n",
    "- La [PEP 0](https://www.python.org/dev/peps/#introduction) contiene el indice de todas las PEP\n",
    "- La [PEP 20](https://www.python.org/dev/peps/pep-0020/): el Zen de Python...\n",
    "    - Probar: *import this*\n",
    "\n"
   ]
  },
  {
   "cell_type": "markdown",
   "id": "healthy-passage",
   "metadata": {
    "slideshow": {
     "slide_type": "subslide"
    }
   },
   "source": [
    "#  Guías de estilo de codificación\n",
    "\n",
    "**\"El código es leído muchas más veces de lo que es escrito\"** ( Guido Van Rossum)\n",
    "\n",
    "- Están especificadas en la [PEP 8](https://www.python.org/dev/peps/pep-0008/)\n",
    "\n",
    "- Hay guías sobre la [indentación](https://www.python.org/dev/peps/pep-0008/#indentation), [convenciones sobre los nombres](https://www.python.org/dev/peps/pep-0008/#naming-conventions), etc.  \n",
    "\n",
    "- Algunos IDE chequean que se respeten estas guías.\n",
    "- Su adopción es MUY importante cuando se comparte el código."
   ]
  },
  {
   "cell_type": "markdown",
   "id": "transparent-viking",
   "metadata": {
    "slideshow": {
     "slide_type": "slide"
    }
   },
   "source": [
    "# Indentación en Python\n",
    "\n",
    "- **Indentar el código es una buena práctica de programación**. ¿Por qué creen?\n",
    "- Algo que caracteríza a Python es que la **indentación es obligatoria**. \n",
    "- ¿Cómo podemos indentar código?"
   ]
  },
  {
   "cell_type": "markdown",
   "id": "portable-comedy",
   "metadata": {
    "slideshow": {
     "slide_type": "fragment"
    }
   },
   "source": [
    "### Buscar: ¿qué nos dice la PEP 8 sobre esto?"
   ]
  },
  {
   "cell_type": "markdown",
   "id": "smart-heaven",
   "metadata": {
    "slideshow": {
     "slide_type": "slide"
    }
   },
   "source": [
    "# Observemos nuevamente el primer ejemplo:"
   ]
  },
  {
   "cell_type": "code",
   "execution_count": 13,
   "id": "fallen-attention",
   "metadata": {
    "slideshow": {
     "slide_type": "fragment"
    }
   },
   "outputs": [
    {
     "name": "stdout",
     "output_type": "stream",
     "text": [
      "Tenés 2 intentos para adivinar un entre 0 y 4\n",
      "Ingresa tu número: 2\n",
      "Mmmm ... No.. ese número no es... Seguí intentando.\n",
      "Ingresa tu número: 3\n",
      "Ganaste!\n"
     ]
    }
   ],
   "source": [
    "## Adivina adivinador....\n",
    "import random\n",
    "numero_aleatorio = random.randrange(5)\n",
    "gane = False\n",
    "print(\"Tenés 2 intentos para adivinar un entre 0 y 4\")\n",
    "intento = 1\n",
    "\n",
    "while intento < 3 and not gane:\n",
    "    numero_ingresado = int(input('Ingresa tu número: '))\n",
    "    if numero_ingresado == numero_aleatorio:\n",
    "        print(\"Ganaste!\")\n",
    "        gane = True\n",
    "    else:\n",
    "        print('Mmmm ... No.. ese número no es... Seguí intentando.')\n",
    "        intento += 1\n",
    "if not gane:\n",
    "    print(\"Perdiste :(\")\n",
    "    print(\"El número era:\", numero_aleatorio)"
   ]
  },
  {
   "cell_type": "markdown",
   "id": "curious-superintendent",
   "metadata": {
    "slideshow": {
     "slide_type": "subslide"
    }
   },
   "source": [
    "\n",
    "# Los comentarios en Python\n",
    "\n",
    "- Como ya sabemos, los comentarios NO son procesados por el intérprete.\n",
    "- Comienzan con el símbolo \"#\"."
   ]
  },
  {
   "cell_type": "code",
   "execution_count": null,
   "id": "endangered-writer",
   "metadata": {
    "slideshow": {
     "slide_type": "fragment"
    }
   },
   "outputs": [],
   "source": [
    "# Este es un comentario de una línea.\n",
    "\n",
    "# Si el comentario\n",
    "# tiene varias líneas\n",
    "# repito el símbolo \"numeral\" en cada línea."
   ]
  },
  {
   "cell_type": "markdown",
   "id": "northern-samoa",
   "metadata": {
    "slideshow": {
     "slide_type": "subslide"
    }
   },
   "source": [
    "- Hay una sección en la [PEP 8](https://www.python.org/dev/peps/pep-0008/#comments) \n",
    "\n",
    "- Entre las sugerencias: \n",
    "    - Tratar de no utilizar comentarios en la misma línea, trae confusión. Pero si se hace, separarlo bien y que no sea para comentar cosas obvias, como el siguiente ejemplo: \n",
    "    \n",
    "```python\n",
    "  x = x + 1        # Incrementa x \n",
    "```\n",
    "\n"
   ]
  },
  {
   "cell_type": "markdown",
   "id": "numerous-location",
   "metadata": {
    "slideshow": {
     "slide_type": "slide"
    }
   },
   "source": [
    "# Tipos de datos\n",
    "\n",
    "- ¿Qué tipos de datos vimos en los ejemplos?"
   ]
  },
  {
   "cell_type": "markdown",
   "id": "fitting-seller",
   "metadata": {
    "slideshow": {
     "slide_type": "fragment"
    }
   },
   "source": [
    "- Vimos números enteros, booleanos y cadenas de caracteres\n",
    "\n",
    "```python\n",
    "gane = False\n",
    "texto_1 = 'Estamos haciendo'\n",
    "intento = 1\n",
    "```"
   ]
  },
  {
   "cell_type": "markdown",
   "id": "38826b5d",
   "metadata": {
    "slideshow": {
     "slide_type": "subslide"
    }
   },
   "source": [
    "## ¿Qué nos indica un tipo de datos?"
   ]
  },
  {
   "cell_type": "markdown",
   "id": "broke-guitar",
   "metadata": {
    "slideshow": {
     "slide_type": "fragment"
    }
   },
   "source": [
    "- El tipo de datos me indica **qué valores** y **qué operaciones** puedo hacer con una determinada variable.\n",
    "\n",
    "- Dijimos que Python tiene tipado dinámico y fuerte. ¿Qué significa?\n"
   ]
  },
  {
   "cell_type": "markdown",
   "id": "colored-radius",
   "metadata": {
    "slideshow": {
     "slide_type": "subslide"
    }
   },
   "source": [
    "# Tipos de datos predefinidos\n",
    "\n",
    "- Built-In Data Types\n",
    "\n",
    "    - Números (enteros, flotantes y complejos)\n",
    "    - Booleanos\n",
    "    - Cadenas de texto\n",
    "    - Listas, tuplas, diccionarios y conjuntos.\n",
    " "
   ]
  },
  {
   "cell_type": "markdown",
   "id": "offshore-arabic",
   "metadata": {
    "slideshow": {
     "slide_type": "subslide"
    }
   },
   "source": [
    "# Números  en Python"
   ]
  },
  {
   "cell_type": "code",
   "execution_count": 14,
   "id": "gentle-retrieval",
   "metadata": {
    "slideshow": {
     "slide_type": "fragment"
    }
   },
   "outputs": [
    {
     "data": {
      "text/plain": [
       "int"
      ]
     },
     "execution_count": 14,
     "metadata": {},
     "output_type": "execute_result"
    }
   ],
   "source": [
    "numero_1 = 15\n",
    "numero_2 = 0o17\n",
    "numero_3 = 0xF\n",
    "#type(numero_2)\n",
    "type(numero_3)"
   ]
  },
  {
   "cell_type": "markdown",
   "id": "miniature-leather",
   "metadata": {
    "slideshow": {
     "slide_type": "fragment"
    }
   },
   "source": [
    "- Todas las variables son de tipo **int**.\n",
    "- Difieren en la forma de expresar el valor:\n",
    "    - Si lo expresamos como un **octal**, debemos anteponer un **0o** (cero y letra o) \n",
    "\t- Si lo expresamos como un **hexadecimal**, debemos anteponer un **0x**"
   ]
  },
  {
   "cell_type": "markdown",
   "id": "joint-circumstances",
   "metadata": {
    "slideshow": {
     "slide_type": "subslide"
    }
   },
   "source": [
    "# Más números en Python\n",
    "\n",
    "- ¿Cómo puedo saber su tipo?"
   ]
  },
  {
   "cell_type": "code",
   "execution_count": 15,
   "id": "another-twist",
   "metadata": {
    "slideshow": {
     "slide_type": "fragment"
    }
   },
   "outputs": [
    {
     "data": {
      "text/plain": [
       "float"
      ]
     },
     "execution_count": 15,
     "metadata": {},
     "output_type": "execute_result"
    }
   ],
   "source": [
    "numero_4 = 0.0001   \n",
    "numero_5 = 0.1e-3 \n",
    "type(numero_5)"
   ]
  },
  {
   "cell_type": "markdown",
   "id": "unusual-armor",
   "metadata": {
    "slideshow": {
     "slide_type": "fragment"
    }
   },
   "source": [
    "- Todas son variables de tipo **float** que representan los valores reales. "
   ]
  },
  {
   "cell_type": "markdown",
   "id": "distinguished-security",
   "metadata": {
    "slideshow": {
     "slide_type": "subslide"
    }
   },
   "source": [
    "# Expresiones numéricas\n",
    "\n",
    "- Los números pueden utilizarse en expresiones aritméticas utilizando los operadores clásicos: +, -, / y *.\n",
    "- ¿Cuál creen que es el valor de la variable **divido**?"
   ]
  },
  {
   "cell_type": "code",
   "execution_count": 16,
   "id": "assured-cleaning",
   "metadata": {
    "slideshow": {
     "slide_type": "fragment"
    }
   },
   "outputs": [
    {
     "data": {
      "text/plain": [
       "4.0"
      ]
     },
     "execution_count": 16,
     "metadata": {},
     "output_type": "execute_result"
    }
   ],
   "source": [
    "num1 = 8\n",
    "num2 = 2 \n",
    "divido = num1 / num2\n",
    "\n",
    "divido"
   ]
  },
  {
   "cell_type": "markdown",
   "id": "still-belarus",
   "metadata": {
    "slideshow": {
     "slide_type": "fragment"
    }
   },
   "source": [
    "- La división entre enteros devuelve un **float**.  \n",
    "- Una expresión con números int y float, se convierte a **float**."
   ]
  },
  {
   "cell_type": "markdown",
   "id": "upset-water",
   "metadata": {
    "slideshow": {
     "slide_type": "subslide"
    }
   },
   "source": [
    "# Más operadores"
   ]
  },
  {
   "cell_type": "code",
   "execution_count": 17,
   "id": "toxic-dance",
   "metadata": {
    "slideshow": {
     "slide_type": "fragment"
    }
   },
   "outputs": [
    {
     "name": "stdout",
     "output_type": "stream",
     "text": [
      "4\n",
      "1\n",
      "81\n"
     ]
    }
   ],
   "source": [
    "x = 9\n",
    "print(x // 2)\n",
    "print(x % 2)\n",
    "print(x ** 2)"
   ]
  },
  {
   "cell_type": "markdown",
   "id": "wrong-excellence",
   "metadata": {
    "slideshow": {
     "slide_type": "fragment"
    }
   },
   "source": [
    "- Corresponden a la división entera, el resto de la división entera y a la potencia.\n",
    "- **Buscar en la PEP8:** ¿hay algunas sugerencias respecto a la forma en que se escriben las expresiones y la asignación de variables?"
   ]
  },
  {
   "cell_type": "markdown",
   "id": "foster-english",
   "metadata": {
    "slideshow": {
     "slide_type": "subslide"
    }
   },
   "source": [
    "# Conversiones explícitas"
   ]
  },
  {
   "cell_type": "code",
   "execution_count": 18,
   "id": "polyphonic-hawaii",
   "metadata": {
    "slideshow": {
     "slide_type": "fragment"
    }
   },
   "outputs": [
    {
     "data": {
      "text/plain": [
       "3"
      ]
     },
     "execution_count": 18,
     "metadata": {},
     "output_type": "execute_result"
    }
   ],
   "source": [
    "x = 7.8\n",
    "y = 2 \n",
    "z = x / y\n",
    "z\n",
    "int(z)"
   ]
  },
  {
   "cell_type": "markdown",
   "id": "ready-spring",
   "metadata": {
    "slideshow": {
     "slide_type": "fragment"
    }
   },
   "source": [
    "- Las funciones **int()** y **float()** convierten en forma explícita su argumento a tipo int y float. \n",
    "- Hay otras funciones similares que permiten convertir un argumento a otros tipos de Python que veremos luego."
   ]
  },
  {
   "cell_type": "markdown",
   "id": "capable-mapping",
   "metadata": {
    "slideshow": {
     "slide_type": "slide"
    }
   },
   "source": [
    "# Primer desafío\n",
    "\n",
    "- Queremos ingresar un número desde el teclado e imprimir si el número es o no par. \n",
    "- ¿Cómo sería el pseudocódigo de esto?"
   ]
  },
  {
   "cell_type": "markdown",
   "id": "expanded-contrast",
   "metadata": {
    "slideshow": {
     "slide_type": "fragment"
    }
   },
   "source": [
    "``` \n",
    "Ingresar un número desde el teclado\n",
    "SI es par:\n",
    "    Mostrar mensaje: \"es par\"\n",
    "SINO:\n",
    "    Mostrar mensaje: \"NO es par\"\n",
    "\n",
    "```"
   ]
  },
  {
   "cell_type": "markdown",
   "id": "charming-hospital",
   "metadata": {
    "slideshow": {
     "slide_type": "fragment"
    }
   },
   "source": [
    "¿Cómo ingresamos datos desde el teclado?"
   ]
  },
  {
   "cell_type": "markdown",
   "id": "equipped-compound",
   "metadata": {
    "slideshow": {
     "slide_type": "subslide"
    }
   },
   "source": [
    "# La función input\n",
    "\n",
    "- Permite ingresar datos desde el teclado (más adelante veremos esto con más detalle).\n",
    "- El tipo de datos ingresado es siempre un **str** (cadena de caracteres), por lo que se tiene que hacer una conversión explícita si no queremos operar con strings. "
   ]
  },
  {
   "cell_type": "code",
   "execution_count": 19,
   "id": "clean-california",
   "metadata": {
    "slideshow": {
     "slide_type": "fragment"
    }
   },
   "outputs": [
    {
     "name": "stdout",
     "output_type": "stream",
     "text": [
      "Ingresa un número: 5\n"
     ]
    },
    {
     "data": {
      "text/plain": [
       "str"
      ]
     },
     "execution_count": 19,
     "metadata": {},
     "output_type": "execute_result"
    }
   ],
   "source": [
    "num = input(\"Ingresa un número: \")\n",
    "type(num)"
   ]
  },
  {
   "cell_type": "markdown",
   "id": "working-incentive",
   "metadata": {
    "slideshow": {
     "slide_type": "slide"
    }
   },
   "source": [
    "# ¿Qué otra cosa nos falta para resolver el desafío?"
   ]
  },
  {
   "cell_type": "markdown",
   "id": "expired-jurisdiction",
   "metadata": {
    "slideshow": {
     "slide_type": "fragment"
    }
   },
   "source": [
    "## La sentencia condicional"
   ]
  },
  {
   "cell_type": "code",
   "execution_count": 20,
   "id": "foster-mortality",
   "metadata": {
    "slideshow": {
     "slide_type": "fragment"
    }
   },
   "outputs": [
    {
     "name": "stdout",
     "output_type": "stream",
     "text": [
      "Ingresá un número: 3\n",
      "Ingresaste un 3!!!\n"
     ]
    }
   ],
   "source": [
    "num = int(input(\"Ingresá un número: \"))\n",
    "if num == 3:\n",
    "    print(\"Ingresaste un 3!!!\")"
   ]
  },
  {
   "cell_type": "code",
   "execution_count": 21,
   "id": "heavy-chaos",
   "metadata": {
    "slideshow": {
     "slide_type": "fragment"
    }
   },
   "outputs": [
    {
     "name": "stdout",
     "output_type": "stream",
     "text": [
      "Ingresá un número: 5\n",
      "NO ingresaste un 3!!!\n"
     ]
    }
   ],
   "source": [
    "num = int(input(\"Ingresá un número: \"))\n",
    "if num == 3:\n",
    "    print(\"Ingresaste un 3!!!\")\n",
    "else:\n",
    "    print(\"NO ingresaste un 3!!!\")\n"
   ]
  },
  {
   "cell_type": "markdown",
   "id": "increasing-joint",
   "metadata": {
    "slideshow": {
     "slide_type": "subslide"
    }
   },
   "source": [
    "# Ahora... a programar el desafío"
   ]
  },
  {
   "cell_type": "code",
   "execution_count": 22,
   "id": "genuine-refrigerator",
   "metadata": {
    "slideshow": {
     "slide_type": "fragment"
    }
   },
   "outputs": [
    {
     "name": "stdout",
     "output_type": "stream",
     "text": [
      "Ingresá un número: 5\n",
      "No es par\n"
     ]
    }
   ],
   "source": [
    "# leer un número desde el teclado e imprimir si el número es o no par.\n",
    "num = int( input(\"Ingresá un número: \"))\n",
    "\n",
    "if num % 2  == 0:\n",
    "    print(\"Es par\")\n",
    "else:\n",
    "    print(\"No es par\")"
   ]
  },
  {
   "cell_type": "markdown",
   "id": "ecological-chester",
   "metadata": {
    "slideshow": {
     "slide_type": "slide"
    }
   },
   "source": [
    "# Segundo desafío\n",
    "\n",
    "- Queremos ingresar un número desde el teclado e imprimir si es múltiplo de 2, 3 o 5.\n",
    "- **Pista:** Python tiene otra  forma de la sentencia condicional: **if-elif-else**."
   ]
  },
  {
   "cell_type": "code",
   "execution_count": 23,
   "id": "mental-hours",
   "metadata": {
    "slideshow": {
     "slide_type": "fragment"
    }
   },
   "outputs": [
    {
     "name": "stdout",
     "output_type": "stream",
     "text": [
      "Ups... Se acabaron las vacaciones!!! :()\n"
     ]
    }
   ],
   "source": [
    "mes = 3\n",
    "if mes == 1:\n",
    "    print(\"Enero\")\n",
    "elif mes == 2: \n",
    "    print(\"Febrero\")\n",
    "else: \n",
    "    print(\"Ups... Se acabaron las vacaciones!!! :()\")"
   ]
  },
  {
   "cell_type": "markdown",
   "id": "criminal-smith",
   "metadata": {
    "slideshow": {
     "slide_type": "fragment"
    }
   },
   "source": [
    "- ¿**case** en Python?"
   ]
  },
  {
   "cell_type": "markdown",
   "id": "suited-danger",
   "metadata": {
    "slideshow": {
     "slide_type": "fragment"
    }
   },
   "source": [
    "[PEP 636](https://www.python.org/dev/peps/pep-0636/) --> A partir de Python 3.10"
   ]
  },
  {
   "cell_type": "markdown",
   "id": "df7d0881",
   "metadata": {
    "slideshow": {
     "slide_type": "subslide"
    }
   },
   "source": [
    "# La solución en Python >= 3.10"
   ]
  },
  {
   "cell_type": "code",
   "execution_count": 24,
   "id": "b73dbac4",
   "metadata": {
    "slideshow": {
     "slide_type": "fragment"
    }
   },
   "outputs": [
    {
     "name": "stdout",
     "output_type": "stream",
     "text": [
      "Ups... Se acabaron las vacaciones!!! :()\n"
     ]
    }
   ],
   "source": [
    "mes = 3\n",
    "match mes:\n",
    "    case 1:\n",
    "        print(\"Enero\")\n",
    "    case 2:\n",
    "         print(\"Febrero\")\n",
    "    case 3:\n",
    "        print(\"Ups... Se acabaron las vacaciones!!! :()\")"
   ]
  },
  {
   "cell_type": "code",
   "execution_count": 25,
   "id": "0f5ae3aa",
   "metadata": {
    "slideshow": {
     "slide_type": "subslide"
    }
   },
   "outputs": [
    {
     "name": "stdout",
     "output_type": "stream",
     "text": [
      "UNO\n"
     ]
    }
   ],
   "source": [
    "cadena = \"uno\"\n",
    "match cadena:\n",
    "    case \"uno\":\n",
    "        print(\"UNO\")\n",
    "    case \"dos\"  | \"tres\":\n",
    "        print(\"DOS O TRES\")\n",
    "    case _:\n",
    "        print(\"Ups.. ninguno de los anteriores\")"
   ]
  },
  {
   "cell_type": "markdown",
   "id": "177ffdb8",
   "metadata": {
    "slideshow": {
     "slide_type": "fragment"
    }
   },
   "source": [
    "- Si queremos saber qué versión de Python estamos usando: "
   ]
  },
  {
   "cell_type": "code",
   "execution_count": 26,
   "id": "4b82ed10",
   "metadata": {
    "slideshow": {
     "slide_type": "fragment"
    }
   },
   "outputs": [
    {
     "data": {
      "text/plain": [
       "'3.11.2 (main, Feb  8 2023, 14:49:24) [GCC 9.4.0]'"
      ]
     },
     "execution_count": 26,
     "metadata": {},
     "output_type": "execute_result"
    }
   ],
   "source": [
    "import sys\n",
    "sys.version"
   ]
  },
  {
   "cell_type": "markdown",
   "id": "ethical-links",
   "metadata": {
    "slideshow": {
     "slide_type": "slide"
    }
   },
   "source": [
    "# Booleanos\n",
    "\n",
    "- Sólo permite dos únicos valores: **True** y **False**\n",
    "- Operadores lógicos: **and**, **or** y **not**."
   ]
  },
  {
   "cell_type": "code",
   "execution_count": 27,
   "id": "indoor-charity",
   "metadata": {
    "slideshow": {
     "slide_type": "fragment"
    }
   },
   "outputs": [
    {
     "name": "stdout",
     "output_type": "stream",
     "text": [
      "False True False\n"
     ]
    }
   ],
   "source": [
    "# ¿Qué imprime?\n",
    "x = True\n",
    "y = False\n",
    "print(x and y, x or y, not x)"
   ]
  },
  {
   "cell_type": "markdown",
   "id": "hindu-washer",
   "metadata": {
    "slideshow": {
     "slide_type": "subslide"
    }
   },
   "source": [
    "# Algunas cosas \"extrañas\"\n",
    "\n"
   ]
  },
  {
   "cell_type": "code",
   "execution_count": 28,
   "id": "packed-daily",
   "metadata": {
    "slideshow": {
     "slide_type": "fragment"
    }
   },
   "outputs": [
    {
     "name": "stdout",
     "output_type": "stream",
     "text": [
      "20\n"
     ]
    }
   ],
   "source": [
    "print(20 or 3)\n",
    "#print(5 and 0)\n",
    "#print(4 or 0 and 3)"
   ]
  },
  {
   "cell_type": "markdown",
   "id": "outdoor-happening",
   "metadata": {
    "slideshow": {
     "slide_type": "fragment"
    }
   },
   "source": [
    "### En Python los booleanos son valores numéricos\n",
    "- Todo valor **diferente a cero (0)** es **True**.\n",
    "- Todo valor **igual a cero (0)** es **False**. "
   ]
  },
  {
   "cell_type": "markdown",
   "id": "elect-learning",
   "metadata": {
    "slideshow": {
     "slide_type": "fragment"
    }
   },
   "source": [
    "- Debemos verificar las precedencias de los operadores:\n",
    "    - Como podemos ver que el operador **and** tiene mayor precedencia que el **or**.\n",
    "- Operadores relacionales: ==, !=, >, <, >=,<="
   ]
  },
  {
   "cell_type": "code",
   "execution_count": 29,
   "id": "thirty-rover",
   "metadata": {
    "slideshow": {
     "slide_type": "notes"
    }
   },
   "outputs": [
    {
     "name": "stdout",
     "output_type": "stream",
     "text": [
      "False True False\n"
     ]
    }
   ],
   "source": [
    "x = 1\n",
    "y = 2\n",
    "print(x > y, x != y, x == y)"
   ]
  },
  {
   "cell_type": "markdown",
   "id": "numerical-nation",
   "metadata": {
    "slideshow": {
     "slide_type": "slide"
    }
   },
   "source": [
    "# Cadenas de caracteres\n",
    "\n",
    "- Secuencia de caracteres encerrados entre comillas simples ' ' o  comillas dobles \" \"."
   ]
  },
  {
   "cell_type": "code",
   "execution_count": 30,
   "id": "christian-ghost",
   "metadata": {
    "slideshow": {
     "slide_type": "fragment"
    }
   },
   "outputs": [
    {
     "data": {
      "text/plain": [
       "'letras'"
      ]
     },
     "execution_count": 30,
     "metadata": {},
     "output_type": "execute_result"
    }
   ],
   "source": [
    "cadena = \"letras\"\n",
    "cadena_1 = \"123\"\n",
    "cadena_3 = \"!123abc%$  /%$#\"\n",
    "cadena"
   ]
  },
  {
   "cell_type": "code",
   "execution_count": 32,
   "id": "serial-network",
   "metadata": {
    "slideshow": {
     "slide_type": "fragment"
    }
   },
   "outputs": [
    {
     "name": "stdout",
     "output_type": "stream",
     "text": [
      " Menú de opciones:\n",
      "            1.- Jugar\n",
      "            2.- Configurar el juego\n",
      "            3.- Salir\n",
      "        \n"
     ]
    }
   ],
   "source": [
    "menu = \"\"\" Menú de opciones:\n",
    "            1.- Jugar\n",
    "            2.- Configurar el juego\n",
    "            3.- Salir\n",
    "        \"\"\"\n",
    "print(menu)\n"
   ]
  },
  {
   "cell_type": "markdown",
   "id": "featured-apple",
   "metadata": {
    "slideshow": {
     "slide_type": "fragment"
    }
   },
   "source": [
    "- \"\"\" (tres \") permiten escribir cadenas de más de una línea."
   ]
  },
  {
   "cell_type": "markdown",
   "id": "otherwise-angola",
   "metadata": {
    "slideshow": {
     "slide_type": "subslide"
    }
   },
   "source": [
    "# Operaciones con cadenas de caracteres"
   ]
  },
  {
   "cell_type": "code",
   "execution_count": 33,
   "id": "hourly-prompt",
   "metadata": {
    "slideshow": {
     "slide_type": "fragment"
    }
   },
   "outputs": [
    {
     "name": "stdout",
     "output_type": "stream",
     "text": [
      "Guido van Rossum\n"
     ]
    }
   ],
   "source": [
    "nombre = 'Guido '\n",
    "apellido = \"van Rossum\"\n",
    "print(nombre + apellido)"
   ]
  },
  {
   "cell_type": "markdown",
   "id": "auburn-intervention",
   "metadata": {
    "slideshow": {
     "slide_type": "subslide"
    }
   },
   "source": [
    "# Repetición de cadenas\n"
   ]
  },
  {
   "cell_type": "code",
   "execution_count": 34,
   "id": "fallen-jackson",
   "metadata": {
    "slideshow": {
     "slide_type": "fragment"
    }
   },
   "outputs": [
    {
     "name": "stdout",
     "output_type": "stream",
     "text": [
      "***********************************\n",
      " Menú de opciones:\n",
      "            1.- Jugar\n",
      "            2.- Configurar el juego\n",
      "            3.- Salir\n",
      "        \n",
      "***********************************\n"
     ]
    }
   ],
   "source": [
    "linea = \"*\" * 35\n",
    "menu = \"\"\" Menú de opciones:\n",
    "            1.- Jugar\n",
    "            2.- Configurar el juego\n",
    "            3.- Salir\n",
    "        \"\"\"\n",
    "print(linea)\n",
    "print(menu)\n",
    "print(linea)"
   ]
  },
  {
   "cell_type": "markdown",
   "id": "joined-statement",
   "metadata": {
    "slideshow": {
     "slide_type": "subslide"
    }
   },
   "source": [
    "# Comparando cadenas"
   ]
  },
  {
   "cell_type": "code",
   "execution_count": 35,
   "id": "fitting-bedroom",
   "metadata": {
    "slideshow": {
     "slide_type": "fragment"
    }
   },
   "outputs": [
    {
     "name": "stdout",
     "output_type": "stream",
     "text": [
      "True\n",
      "True\n"
     ]
    }
   ],
   "source": [
    "print('Python' == 'Python')\n",
    "print(\"Python\">\"Java\")"
   ]
  },
  {
   "cell_type": "code",
   "execution_count": 36,
   "id": "prime-kidney",
   "metadata": {
    "slideshow": {
     "slide_type": "fragment"
    }
   },
   "outputs": [
    {
     "name": "stdout",
     "output_type": "stream",
     "text": [
      "False\n"
     ]
    }
   ],
   "source": [
    "print(\"Python\">\"python\")"
   ]
  },
  {
   "cell_type": "markdown",
   "id": "interested-writer",
   "metadata": {
    "slideshow": {
     "slide_type": "subslide"
    }
   },
   "source": [
    "# Tercer desafío\n",
    "\n",
    "- Dado una letra ingresada por el teclado, queremos saber si es mayúscula o minúscula.\n"
   ]
  },
  {
   "cell_type": "code",
   "execution_count": 37,
   "id": "piano-clause",
   "metadata": {
    "slideshow": {
     "slide_type": "fragment"
    }
   },
   "outputs": [
    {
     "name": "stdout",
     "output_type": "stream",
     "text": [
      "Ingresar una letrad\n",
      "Es minúscula\n"
     ]
    }
   ],
   "source": [
    "letra = input(\"Ingresar una letra\")\n",
    "\n",
    "if letra >=\"a\" and letra <=\"z\":\n",
    "    print(\"Es minúscula\")\n",
    "elif letra >= \"A\" and letra <= \"Z\":\n",
    "    print(\"Es mayúscula\")\n",
    "else:\n",
    "    print(\"NO es una letra\")"
   ]
  },
  {
   "cell_type": "markdown",
   "id": "herbal-medicine",
   "metadata": {
    "slideshow": {
     "slide_type": "subslide"
    }
   },
   "source": [
    "# Cuarto desafío\n",
    "\n",
    "- Dado un caracter ingresado por el teclado, queremos saber si es una comilla o no.\n",
    "\n",
    "- ¿Hay algún problema?\n"
   ]
  },
  {
   "cell_type": "markdown",
   "id": "mounted-armor",
   "metadata": {
    "slideshow": {
     "slide_type": "fragment"
    }
   },
   "source": [
    "## Secuencias de escape"
   ]
  },
  {
   "cell_type": "code",
   "execution_count": 38,
   "id": "characteristic-tanzania",
   "metadata": {
    "slideshow": {
     "slide_type": "fragment"
    }
   },
   "outputs": [
    {
     "name": "stdout",
     "output_type": "stream",
     "text": [
      "Hola\n",
      "\t Empezamos a cursar\n",
      "\t dos\n",
      "Año\"22\n",
      "Imprimo comilla \" \n"
     ]
    }
   ],
   "source": [
    "print(\"Hola\\n\\t Empezamos a cursar\\n\\t dos\")\n",
    "print('Año\\\"22')\n",
    "print(\"Imprimo comilla \\\" \")"
   ]
  },
  {
   "cell_type": "markdown",
   "id": "smoking-baking",
   "metadata": {
    "slideshow": {
     "slide_type": "slide"
    }
   },
   "source": [
    "# La función len()\n",
    "\n",
    "- **len():** retorna la cantidad de caracteres de la cadena.\n"
   ]
  },
  {
   "cell_type": "code",
   "execution_count": 39,
   "id": "material-given",
   "metadata": {
    "slideshow": {
     "slide_type": "fragment"
    }
   },
   "outputs": [
    {
     "data": {
      "text/plain": [
       "4"
      ]
     },
     "execution_count": 39,
     "metadata": {},
     "output_type": "execute_result"
    }
   ],
   "source": [
    "len(\"Hola\")"
   ]
  },
  {
   "cell_type": "markdown",
   "id": "architectural-spotlight",
   "metadata": {
    "slideshow": {
     "slide_type": "fragment"
    }
   },
   "source": [
    "## Quinto desafío\n",
    "\n",
    "- Dadas dos cadenas ingresadas desde el teclado, imprimir aquella que tenga más caracteres.\n"
   ]
  },
  {
   "cell_type": "code",
   "execution_count": null,
   "id": "christian-melissa",
   "metadata": {
    "slideshow": {
     "slide_type": "fragment"
    }
   },
   "outputs": [],
   "source": [
    "#Posible solución al desafío\n"
   ]
  },
  {
   "cell_type": "markdown",
   "id": "dutch-training",
   "metadata": {
    "slideshow": {
     "slide_type": "slide"
    }
   },
   "source": [
    "# Cada elemento de la cadena\n",
    "\n",
    "- Se accede mediante un índice entre []. \n",
    "- **Comenzando desde 0 (cero).**\n"
   ]
  },
  {
   "cell_type": "code",
   "execution_count": 40,
   "id": "funny-silly",
   "metadata": {
    "slideshow": {
     "slide_type": "fragment"
    }
   },
   "outputs": [
    {
     "data": {
      "text/plain": [
       "'P'"
      ]
     },
     "execution_count": 40,
     "metadata": {},
     "output_type": "execute_result"
    }
   ],
   "source": [
    "cadena = \"Python\"\n",
    "cadena[0]"
   ]
  },
  {
   "cell_type": "markdown",
   "id": "450d00eb",
   "metadata": {
    "slideshow": {
     "slide_type": "subslide"
    }
   },
   "source": [
    "## Sexto desafío\n",
    "\n",
    "- Determinar si una palabra ingresada desde el teclado es un sustantivo propio.\n",
    "\n",
    "    - Solo vamos a controlar si la palabra empieza con una letra mayúscula.\n"
   ]
  },
  {
   "cell_type": "code",
   "execution_count": 41,
   "id": "c68a87e7",
   "metadata": {
    "slideshow": {
     "slide_type": "fragment"
    }
   },
   "outputs": [
    {
     "name": "stdout",
     "output_type": "stream",
     "text": [
      "Ingresar una palaabra: Argentina\n",
      "Es un sustantivo propio.\n"
     ]
    }
   ],
   "source": [
    "# Posible solución\n",
    "palabra = input(\"Ingresar una palaabra: \")\n",
    "\n",
    "if palabra[0] >=\"A\" and palabra[0] <=\"Z\":\n",
    "    print(\"Es un sustantivo propio.\")"
   ]
  },
  {
   "cell_type": "markdown",
   "id": "golden-northern",
   "metadata": {
    "slideshow": {
     "slide_type": "subslide"
    }
   },
   "source": [
    "# Recorriendo la cadena\n",
    "\n"
   ]
  },
  {
   "cell_type": "markdown",
   "id": "downtown-disclaimer",
   "metadata": {
    "slideshow": {
     "slide_type": "fragment"
    }
   },
   "source": [
    "- La sentencia **for**:"
   ]
  },
  {
   "cell_type": "code",
   "execution_count": 42,
   "id": "transparent-portland",
   "metadata": {
    "slideshow": {
     "slide_type": "fragment"
    }
   },
   "outputs": [
    {
     "name": "stdout",
     "output_type": "stream",
     "text": [
      "c\n",
      "a\n",
      "s\n",
      "a\n"
     ]
    }
   ],
   "source": [
    "cadena = \"casa\"\n",
    "for car in cadena:\n",
    "    print(car)"
   ]
  },
  {
   "cell_type": "markdown",
   "id": "palestinian-genealogy",
   "metadata": {
    "slideshow": {
     "slide_type": "slide"
    }
   },
   "source": [
    "# Último desafío\n",
    "\n",
    "- Escribir un programa que ingrese desde teclado una cadena de caracteres e imprima cuántas letras \"a\" contiene. "
   ]
  },
  {
   "cell_type": "code",
   "execution_count": 43,
   "id": "north-karen",
   "metadata": {
    "slideshow": {
     "slide_type": "fragment"
    }
   },
   "outputs": [
    {
     "name": "stdout",
     "output_type": "stream",
     "text": [
      "Ingresá una cadena: La casa de Ana\n",
      "5\n"
     ]
    }
   ],
   "source": [
    "# Posible solución al desafio\n",
    "cadena = input(\"Ingresá una cadena: \")\n",
    "cant_a = 0\n",
    "for car in cadena:\n",
    "    if car == \"a\" or car == \"A\":\n",
    "        cant_a += 1\n",
    "print(cant_a)"
   ]
  },
  {
   "cell_type": "code",
   "execution_count": 44,
   "id": "3f313670",
   "metadata": {
    "slideshow": {
     "slide_type": "fragment"
    }
   },
   "outputs": [
    {
     "name": "stdout",
     "output_type": "stream",
     "text": [
      "Ingresá una cadena: La casa de Ana\n",
      "5\n"
     ]
    }
   ],
   "source": [
    "# Otra posible solución\n",
    "cadena = input(\"Ingresá una cadena: \")\n",
    "print(cadena.count(\"a\") + cadena.count(\"A\"))"
   ]
  },
  {
   "cell_type": "markdown",
   "id": "b11a4db8",
   "metadata": {
    "slideshow": {
     "slide_type": "slide"
    }
   },
   "source": [
    "# Seguimos la próxima  ..."
   ]
  }
 ],
 "metadata": {
  "celltoolbar": "Slideshow",
  "kernelspec": {
   "display_name": "Python 3 (ipykernel)",
   "language": "python",
   "name": "python3"
  },
  "language_info": {
   "codemirror_mode": {
    "name": "ipython",
    "version": 3
   },
   "file_extension": ".py",
   "mimetype": "text/x-python",
   "name": "python",
   "nbconvert_exporter": "python",
   "pygments_lexer": "ipython3",
   "version": "3.11.2"
  }
 },
 "nbformat": 4,
 "nbformat_minor": 5
}
