{
 "cells": [
  {
   "cell_type": "markdown",
   "id": "private-distributor",
   "metadata": {
    "slideshow": {
     "slide_type": "slide"
    }
   },
   "source": [
    "# Seminario de Lenguajes - Python\n",
    "## Cursada 2023\n",
    "\n",
    "## Clase 2: listas, tuplas y diccionarios. Introducción a funciones"
   ]
  },
  {
   "cell_type": "markdown",
   "id": "automotive-graphics",
   "metadata": {
    "slideshow": {
     "slide_type": "slide"
    }
   },
   "source": [
    "# En el video de cadenas planteamos el siguiente desafío:\n",
    "\n",
    "> Escribir un programa que ingrese 4 palabras desde el teclado e imprima aquellas que contienen la letra r."
   ]
  },
  {
   "cell_type": "markdown",
   "id": "454d984e",
   "metadata": {
    "slideshow": {
     "slide_type": "fragment"
    }
   },
   "source": [
    "#### Una posible solución:"
   ]
  },
  {
   "cell_type": "code",
   "execution_count": null,
   "id": "dense-python",
   "metadata": {
    "slideshow": {
     "slide_type": "fragment"
    }
   },
   "outputs": [],
   "source": [
    "for i in range(4):\n",
    "    cadena = input(\"Ingresá una palabra: \")\n",
    "    if \"r\" in cadena:\n",
    "        print(f\"{cadena} tiene una letra r\")"
   ]
  },
  {
   "cell_type": "markdown",
   "id": "explicit-witness",
   "metadata": {
    "slideshow": {
     "slide_type": "fragment"
    }
   },
   "source": [
    "- ¿Se acuerdan qué representa **f\"{cadena} tiene una letra r\"**?"
   ]
  },
  {
   "cell_type": "markdown",
   "id": "therapeutic-twins",
   "metadata": {
    "slideshow": {
     "slide_type": "subslide"
    }
   },
   "source": [
    "# Desafío 1\n",
    "\n",
    "> Vamos a modificar el código anterior para que se imprima la cadena \"TIENE R\" si la palabra contiene la letra r y sino, imprima \"NO TIENE R\"."
   ]
  },
  {
   "cell_type": "code",
   "execution_count": null,
   "id": "incredible-campus",
   "metadata": {
    "slideshow": {
     "slide_type": "fragment"
    }
   },
   "outputs": [],
   "source": [
    "for i in range(4):\n",
    "    cadena = input(\"Ingresá una palabra: \")\n",
    "    if \"r\" in cadena:\n",
    "        print(\"TIENE R\")\n",
    "    else:\n",
    "        print(\"NO TIENE R\")"
   ]
  },
  {
   "cell_type": "markdown",
   "id": "important-sally",
   "metadata": {
    "slideshow": {
     "slide_type": "fragment"
    }
   },
   "source": [
    "Hay otra forma de escribir estas expresiones condicionales."
   ]
  },
  {
   "cell_type": "markdown",
   "id": "moderate-belgium",
   "metadata": {
    "slideshow": {
     "slide_type": "subslide"
    }
   },
   "source": [
    "# Expresión condicional\n",
    "\n",
    "- La forma general es:\n",
    "\n",
    "```python\n",
    "A if C else B\n",
    "```\n",
    "- Devuelve A si se cumple la condición C, sino devuelve B."
   ]
  },
  {
   "cell_type": "code",
   "execution_count": null,
   "id": "capital-theology",
   "metadata": {
    "slideshow": {
     "slide_type": "fragment"
    }
   },
   "outputs": [],
   "source": [
    "x = int(input(\"Ingresá un número\"))\n",
    "y = int(input(\"Ingresá un número\"))\n",
    "\n",
    "maximo = x if x > y else y \n",
    "maximo"
   ]
  },
  {
   "cell_type": "markdown",
   "id": "owned-specification",
   "metadata": {
    "slideshow": {
     "slide_type": "subslide"
    }
   },
   "source": [
    "# Escribimos otra solución al desafío"
   ]
  },
  {
   "cell_type": "code",
   "execution_count": null,
   "id": "crucial-driving",
   "metadata": {
    "slideshow": {
     "slide_type": "fragment"
    }
   },
   "outputs": [],
   "source": [
    "for i in range(4):\n",
    "    cadena = input(\"Ingresá una palabra\")\n",
    "    print(\"TIENE R\" if \"r\" in cadena else \"NO TIENE R\")"
   ]
  },
  {
   "cell_type": "markdown",
   "id": "willing-photographer",
   "metadata": {
    "slideshow": {
     "slide_type": "subslide"
    }
   },
   "source": [
    "# Evaluación  del condicional\n",
    "\n",
    "**IMPORTANTE:** Python utiliza la **evaluación con circuito corto** para evaluar las condiciones\n"
   ]
  },
  {
   "cell_type": "code",
   "execution_count": null,
   "id": "civil-corpus",
   "metadata": {
    "slideshow": {
     "slide_type": "fragment"
    }
   },
   "outputs": [],
   "source": [
    "x = 1\n",
    "y = 0\n",
    "\n",
    "if True or x/y:\n",
    "    print(\"No hay error!!!!\")"
   ]
  },
  {
   "cell_type": "markdown",
   "id": "interim-cover",
   "metadata": {
    "slideshow": {
     "slide_type": "slide"
    }
   },
   "source": [
    "# Desafío 2\n",
    "\n",
    "> Ingresar palabras desde el teclado hasta ingresar la palabra FIN. Imprimir aquellas que empiecen  y terminen con la misma letra. \n",
    "- ¿Qué estructura de control deberíamos utilizar para realizar esta iteración? ¿Podemos utilizar la sentencia **for**?"
   ]
  },
  {
   "cell_type": "markdown",
   "id": "protective-turkey",
   "metadata": {
    "slideshow": {
     "slide_type": "slide"
    }
   },
   "source": [
    "# Iteración condicional\n",
    "\n",
    "- Python tiene una sentencia **while**. ¿Se acuerdan de este ejemplo?"
   ]
  },
  {
   "cell_type": "code",
   "execution_count": null,
   "id": "human-booking",
   "metadata": {
    "slideshow": {
     "slide_type": "fragment"
    }
   },
   "outputs": [],
   "source": [
    "## Adivina adivinador....\n",
    "import random\n",
    "numero_aleatorio = random.randrange(5)\n",
    "gane = False\n",
    "print(\"Tenés 2 intentos para adivinar un entre 0 y 4\")\n",
    "intento = 1\n",
    "\n",
    "while intento < 3 and not gane:\n",
    "    numero_ingresado = int(input('Ingresa tu número: '))\n",
    "    if numero_ingresado == numero_aleatorio:\n",
    "        print(\"Ganaste!\")\n",
    "        gane = True\n",
    "    else:\n",
    "        print('Mmmm ... No.. ese número no es... Seguí intentando.')\n",
    "        intento += 1\n",
    "if not gane:\n",
    "    print(\"Perdiste :(\")\n",
    "    print(\"El número era:\", numero_aleatorio)"
   ]
  },
  {
   "cell_type": "markdown",
   "id": "greek-sleep",
   "metadata": {
    "slideshow": {
     "slide_type": "subslide"
    }
   },
   "source": [
    "# La sentencia while\n",
    "\n",
    "```python\n",
    "while condicion:\n",
    "    instrucción\n",
    "    instruccion\n",
    "    \n",
    "```\n",
    "Nuestro desafio:\n",
    "> Ingresar palabras desde el teclado hasta ingresar la palabra FIN. Imprimir aquellas que empiecen  y terminen con la misma letra. "
   ]
  },
  {
   "cell_type": "code",
   "execution_count": null,
   "id": "narrow-slope",
   "metadata": {
    "slideshow": {
     "slide_type": "fragment"
    }
   },
   "outputs": [],
   "source": [
    "# Solución al desafío\n"
   ]
  },
  {
   "cell_type": "markdown",
   "id": "adult-respondent",
   "metadata": {
    "slideshow": {
     "slide_type": "slide"
    }
   },
   "source": [
    "# Desafío  3\n",
    "> Queremos procesar la duración de las películas de Harry Potter.\n",
    "\n",
    "Queremos saber:\n",
    "- cuál fue la duración, en minutos, promedio;\n",
    "- cuántas películas duran más que el promedio, en minutos."
   ]
  },
  {
   "cell_type": "markdown",
   "id": "disturbed-jacket",
   "metadata": {
    "slideshow": {
     "slide_type": "subslide"
    }
   },
   "source": [
    "¿Cómo sería un pseudocódigo de esto?\n",
    "```\n",
    "Ingresar la duración de las peliculas.\n",
    "Calcular el promedio.\n",
    "Calcular cuántas películas duran más que el promedio.\n",
    "```\n",
    "¿Cómo hacemos el tercer proceso? ¿Tenemos que ingresar las duraciones nuevamente? "
   ]
  },
  {
   "cell_type": "markdown",
   "id": "exposed-marina",
   "metadata": {
    "slideshow": {
     "slide_type": "fragment"
    }
   },
   "source": [
    "Obviamente no. **Necesitamos tipos de datos que nos permitan guardar muchos valores**."
   ]
  },
  {
   "cell_type": "markdown",
   "id": "specified-parker",
   "metadata": {
    "slideshow": {
     "slide_type": "subslide"
    }
   },
   "source": [
    "# Listas\n",
    "\n",
    "\n",
    "- Una **lista** es una colección ordenada de elementos."
   ]
  },
  {
   "cell_type": "code",
   "execution_count": null,
   "id": "indian-prague",
   "metadata": {
    "slideshow": {
     "slide_type": "fragment"
    }
   },
   "outputs": [],
   "source": [
    "duracion_pelis = [152, 161, 142, 157, 138, 153, 146, 130]\n",
    "\n",
    "duracion_pelis"
   ]
  },
  {
   "cell_type": "markdown",
   "id": "binding-louisiana",
   "metadata": {
    "slideshow": {
     "slide_type": "subslide"
    }
   },
   "source": [
    "### Las listas son estructuras heterogéneas, es decir que **pueden contener cualquier tipo de datos**, inclusive otras listas."
   ]
  },
  {
   "cell_type": "code",
   "execution_count": null,
   "id": "cheap-basket",
   "metadata": {
    "slideshow": {
     "slide_type": "fragment"
    }
   },
   "outputs": [],
   "source": [
    "varios = [1, \"dos\", [3, \"cuatro\"], True]\n",
    "varios"
   ]
  },
  {
   "cell_type": "markdown",
   "id": "objective-leadership",
   "metadata": {
    "slideshow": {
     "slide_type": "fragment"
    }
   },
   "source": [
    "¿Cuántos elementos tiene la lista?"
   ]
  },
  {
   "cell_type": "code",
   "execution_count": null,
   "id": "embedded-investigation",
   "metadata": {
    "slideshow": {
     "slide_type": "fragment"
    }
   },
   "outputs": [],
   "source": [
    "len(varios)"
   ]
  },
  {
   "cell_type": "markdown",
   "id": "satisfactory-acquisition",
   "metadata": {
    "slideshow": {
     "slide_type": "subslide"
    }
   },
   "source": [
    "# Accediendo a los elementos de una lista\n",
    "\n",
    "- Se accede a través de **un índice** que indica la posición del elemento dentro de la lista **encerrado entre corchetes** [].\n",
    "- **IMPORTANTE:** al igual que las cadenas los índices comienzan en 0."
   ]
  },
  {
   "cell_type": "code",
   "execution_count": null,
   "id": "essential-berry",
   "metadata": {
    "slideshow": {
     "slide_type": "fragment"
    }
   },
   "outputs": [],
   "source": [
    "varios = [ 17, \"hola\", [1, \"dos\"], 5.5, True] \n",
    "print(varios[0])\n",
    "print(varios[2][1] )\n",
    "print(varios[-3])"
   ]
  },
  {
   "cell_type": "markdown",
   "id": "automatic-shield",
   "metadata": {
    "slideshow": {
     "slide_type": "subslide"
    }
   },
   "source": [
    "- **Las listas son datos MUTABLES.** ¿Qué quiere decir esto?"
   ]
  },
  {
   "cell_type": "code",
   "execution_count": null,
   "id": "extreme-virtue",
   "metadata": {
    "slideshow": {
     "slide_type": "fragment"
    }
   },
   "outputs": [],
   "source": [
    "varios[0] = [\"El Dibu\", 23]\n",
    "varios"
   ]
  },
  {
   "cell_type": "markdown",
   "id": "fuzzy-agent",
   "metadata": {
    "slideshow": {
     "slide_type": "subslide"
    }
   },
   "source": [
    "# Recorriendo una lista\n",
    "\n",
    "- ¿Qué estructura les parece que podríamos usar?"
   ]
  },
  {
   "cell_type": "code",
   "execution_count": null,
   "id": "handed-lawrence",
   "metadata": {
    "slideshow": {
     "slide_type": "fragment"
    }
   },
   "outputs": [],
   "source": [
    "for elem in varios:\n",
    "    print(elem)"
   ]
  },
  {
   "cell_type": "markdown",
   "id": "impressed-choice",
   "metadata": {
    "slideshow": {
     "slide_type": "subslide"
    }
   },
   "source": [
    "## Otra forma de recorrer:"
   ]
  },
  {
   "cell_type": "code",
   "execution_count": null,
   "id": "dedicated-hurricane",
   "metadata": {
    "slideshow": {
     "slide_type": "fragment"
    }
   },
   "outputs": [],
   "source": [
    "# otra forma\n",
    "cant_elementos = len(varios)\n",
    "for indice in range(cant_elementos):\n",
    "    print(varios[indice])"
   ]
  },
  {
   "cell_type": "markdown",
   "id": "retired-latvia",
   "metadata": {
    "slideshow": {
     "slide_type": "subslide"
    }
   },
   "source": [
    "# Retomemos el desafío"
   ]
  },
  {
   "cell_type": "markdown",
   "id": "gross-parliament",
   "metadata": {
    "slideshow": {
     "slide_type": "fragment"
    }
   },
   "source": [
    "```\n",
    "Ingresar la duración de las peliculas.\n",
    "Calcular el promedio.\n",
    "Calcular cuántas películas duran más que el promedio.\n",
    "```\n",
    "Empecemos con **el primer proceso**: vamos a suponer que ingresamos datos hasta que ingresemos una duración igual a 0 (esto si no sabemos cuántas películas vamos a procesar).\n",
    "\n",
    "¿Cómo hacemos la iteración?"
   ]
  },
  {
   "cell_type": "markdown",
   "id": "ca3b7c46",
   "metadata": {
    "slideshow": {
     "slide_type": "subslide"
    }
   },
   "source": [
    "## ¿Qué otra cosa nos falta?"
   ]
  },
  {
   "cell_type": "code",
   "execution_count": null,
   "id": "effective-batman",
   "metadata": {
    "slideshow": {
     "slide_type": "fragment"
    }
   },
   "outputs": [],
   "source": [
    "lista = [\"Leo\", 10]\n",
    "lista.append(\"Dibu\")\n",
    "lista.append(23)\n",
    "lista"
   ]
  },
  {
   "cell_type": "markdown",
   "id": "applied-orientation",
   "metadata": {
    "slideshow": {
     "slide_type": "subslide"
    }
   },
   "source": [
    "# Ahora si resolvamos este proceso"
   ]
  },
  {
   "cell_type": "code",
   "execution_count": null,
   "id": "provincial-tutorial",
   "metadata": {
    "slideshow": {
     "slide_type": "fragment"
    }
   },
   "outputs": [],
   "source": [
    "#Ingresar las duraciones\n",
    "cant_minutos = int(input(\"Ingresá la duración de una película de Harry Potter (0 para finalizar)\"))\n",
    "duracion_pelis  = []\n",
    "while cant_minutos != 0:\n",
    "    duracion_pelis.append(cant_minutos)\n",
    "    cant_minutos = int(input(\"Ingresá la duración de una película de Harry Potter (0 para finalizar)\"))\n",
    "\n",
    "duracion_pelis"
   ]
  },
  {
   "cell_type": "markdown",
   "id": "863192e5",
   "metadata": {
    "slideshow": {
     "slide_type": "subslide"
    }
   },
   "source": [
    "## Calculamos el promedio"
   ]
  },
  {
   "cell_type": "code",
   "execution_count": null,
   "id": "53ec2f15",
   "metadata": {
    "slideshow": {
     "slide_type": "fragment"
    }
   },
   "outputs": [],
   "source": [
    "# Calculamos el promedio\n",
    "suma = 0\n",
    "for peli in duracion_pelis:\n",
    "    suma += peli\n",
    "\n",
    "promedio = suma / len (duracion_pelis)\n",
    "promedio"
   ]
  },
  {
   "cell_type": "code",
   "execution_count": null,
   "id": "372e4a78",
   "metadata": {
    "slideshow": {
     "slide_type": "fragment"
    }
   },
   "outputs": [],
   "source": [
    "#Otra solución\n",
    "\n",
    "promedio = sum(duracion_pelis) / len(duracion_pelis)\n",
    "promedio"
   ]
  },
  {
   "cell_type": "markdown",
   "id": "e53a199a",
   "metadata": {
    "slideshow": {
     "slide_type": "fragment"
    }
   },
   "source": [
    "**¡IMPORTANTE!** Acá no estamos chequeando que la lista esté vacía!!!"
   ]
  },
  {
   "cell_type": "markdown",
   "id": "worthy-smell",
   "metadata": {
    "slideshow": {
     "slide_type": "subslide"
    }
   },
   "source": [
    "## Tarea para el hogar: terminar el desafío\n",
    "```\n",
    "Datos:\n",
    "Película\t\t                            Duración (minutos)\n",
    "Harry Potter y la piedra filosofal (2001) -152\n",
    "Harry Potter y la cámara secreta (2002) - 161\n",
    "Harry Potter y el prisionero de Azkaban (2004) -142\n",
    "Harry Potter y el cáliz de fuego (2005) -157\n",
    "Harry Potter y la Orden del Fénix (2007) -138\n",
    "Harry Potter y el misterio del príncipe (2009)- 153\n",
    "Harry Potter y las Reliquias de la Muerte - Parte 1 (2010)-146\n",
    "Harry Potter y las Reliquias de la Muerte - Parte 2 (2011)-130\n",
    "```"
   ]
  },
  {
   "cell_type": "markdown",
   "id": "rural-cable",
   "metadata": {
    "slideshow": {
     "slide_type": "slide"
    }
   },
   "source": [
    "# Slicing con listas\n",
    "\n",
    "-  Al igual que en el caso de las cadenas de caracteres, se puede obtener una porción de una lista usando el operador **\":\"**"
   ]
  },
  {
   "cell_type": "code",
   "execution_count": null,
   "id": "comparable-peninsula",
   "metadata": {
    "slideshow": {
     "slide_type": "fragment"
    }
   },
   "outputs": [],
   "source": [
    "vocales = [ \"a\", \"e\",\"i\", \"o\", \"u\"] \n",
    "print(vocales[1:3])"
   ]
  },
  {
   "cell_type": "markdown",
   "id": "arabic-strengthening",
   "metadata": {
    "slideshow": {
     "slide_type": "fragment"
    }
   },
   "source": [
    "- Si no se pone inicio o fin, se toma por defecto las posiciones de inicio y fin de la lista."
   ]
  },
  {
   "cell_type": "markdown",
   "id": "1d057e15",
   "metadata": {
    "slideshow": {
     "slide_type": "fragment"
    }
   },
   "source": [
    "- **Tarea para el hogar:** probar con índices negativos."
   ]
  },
  {
   "cell_type": "markdown",
   "id": "perceived-queens",
   "metadata": {
    "slideshow": {
     "slide_type": "subslide"
    }
   },
   "source": [
    "# Asignación de listas\n",
    "\n",
    "- Observemos el siguiente ejemplo:"
   ]
  },
  {
   "cell_type": "code",
   "execution_count": null,
   "id": "quality-classroom",
   "metadata": {
    "slideshow": {
     "slide_type": "fragment"
    }
   },
   "outputs": [],
   "source": [
    "rock = [\"Riff\", \"La Renga\", \"La Torre\"]\n",
    "blues = [\"La Mississippi\", \"Memphis\"]\n",
    "\n",
    "musica = rock\n",
    "\n",
    "print(musica)"
   ]
  },
  {
   "cell_type": "markdown",
   "id": "norwegian-richardson",
   "metadata": {
    "slideshow": {
     "slide_type": "fragment"
    }
   },
   "source": [
    "- Recordemos que las variables son referencias a objetos. "
   ]
  },
  {
   "cell_type": "markdown",
   "id": "57478543",
   "metadata": {
    "slideshow": {
     "slide_type": "subslide"
    }
   },
   "source": [
    "- Cada objeto tiene un identificación."
   ]
  },
  {
   "cell_type": "code",
   "execution_count": null,
   "id": "running-relay",
   "metadata": {
    "slideshow": {
     "slide_type": "fragment"
    }
   },
   "outputs": [],
   "source": [
    "print(id(musica))\n",
    "print(id(rock))\n",
    "print(id(blues))"
   ]
  },
  {
   "cell_type": "markdown",
   "id": "80490ed1",
   "metadata": {
    "slideshow": {
     "slide_type": "fragment"
    }
   },
   "source": [
    "¿Cuál es el problema?"
   ]
  },
  {
   "cell_type": "code",
   "execution_count": null,
   "id": "065e0509",
   "metadata": {},
   "outputs": [],
   "source": [
    "rock.append(\"Rata Blanca\")\n",
    "musica"
   ]
  },
  {
   "cell_type": "markdown",
   "id": "lesbian-milton",
   "metadata": {
    "slideshow": {
     "slide_type": "subslide"
    }
   },
   "source": [
    "# Observemos este código"
   ]
  },
  {
   "cell_type": "code",
   "execution_count": null,
   "id": "environmental-brown",
   "metadata": {
    "slideshow": {
     "slide_type": "fragment"
    }
   },
   "outputs": [],
   "source": [
    "otra_musica = rock[:]\n",
    "print(id(rock))\n",
    "print(id(otra_musica))\n",
    "print(id(musica))"
   ]
  },
  {
   "cell_type": "code",
   "execution_count": null,
   "id": "3ed24a08",
   "metadata": {
    "slideshow": {
     "slide_type": "fragment"
    }
   },
   "outputs": [],
   "source": [
    "otra_musica.append(\"Hermetica\")\n",
    "otra_musica"
   ]
  },
  {
   "cell_type": "markdown",
   "id": "provincial-peninsula",
   "metadata": {
    "slideshow": {
     "slide_type": "subslide"
    }
   },
   "source": [
    "- **musica = rock**: musica y rock apunten al mismo objeto (misma zona de memoria).\n",
    "- **otra_musica = rock[:]**: otra_musica y rock referencian a dos objetos distintos (dos zonas de memoria distintas con el mismo contenido).\n",
    "\n",
    "Observemos este código:"
   ]
  },
  {
   "cell_type": "code",
   "execution_count": null,
   "id": "5adba757",
   "metadata": {
    "slideshow": {
     "slide_type": "fragment"
    }
   },
   "outputs": [],
   "source": [
    "# Otra forma\n",
    "mas_musica = rock.copy() \n",
    "id(mas_musica)"
   ]
  },
  {
   "cell_type": "markdown",
   "id": "b95d4b04",
   "metadata": {
    "slideshow": {
     "slide_type": "fragment"
    }
   },
   "source": [
    "- ¿Qué podemos decir del método **copy**?"
   ]
  },
  {
   "cell_type": "markdown",
   "id": "successful-harvey",
   "metadata": {
    "slideshow": {
     "slide_type": "subslide"
    }
   },
   "source": [
    "# Operaciones con listas\n",
    "\n",
    "- Las listas se pueden concatenar (+) y repetir (*)"
   ]
  },
  {
   "cell_type": "code",
   "execution_count": null,
   "id": "adverse-proposal",
   "metadata": {
    "slideshow": {
     "slide_type": "fragment"
    }
   },
   "outputs": [],
   "source": [
    "rock = [\"Riff\", \"La Renga\", \"La Torre\"]\n",
    "blues =[\"La Mississippi\", \"Memphis\"]\n",
    "\n",
    "musica = rock + blues\n",
    "mas_rock = rock * 3\n",
    "mas_rock"
   ]
  },
  {
   "cell_type": "markdown",
   "id": "promotional-blast",
   "metadata": {
    "slideshow": {
     "slide_type": "subslide"
    }
   },
   "source": [
    "# Algunas cosas para prestar atención\n",
    "\n",
    "Analicemos el siguiente código:\n"
   ]
  },
  {
   "cell_type": "code",
   "execution_count": null,
   "id": "funny-alias",
   "metadata": {
    "slideshow": {
     "slide_type": "fragment"
    }
   },
   "outputs": [],
   "source": [
    "lista = [[1,2]] * 3\n",
    "lista"
   ]
  },
  {
   "cell_type": "code",
   "execution_count": null,
   "id": "6d8ea0f8",
   "metadata": {
    "slideshow": {
     "slide_type": "fragment"
    }
   },
   "outputs": [],
   "source": [
    "lista [0][1] = 'cambio'\n",
    "lista"
   ]
  },
  {
   "cell_type": "markdown",
   "id": "nasty-being",
   "metadata": {
    "slideshow": {
     "slide_type": "fragment"
    }
   },
   "source": [
    "- ¿Qué es lo que sucedió?\n",
    "    - El operador \\* repite la **misma lista**, no genera una copia distinta; es el mismo objeto referenciado 3 veces."
   ]
  },
  {
   "cell_type": "markdown",
   "id": "3a32daeb",
   "metadata": {
    "slideshow": {
     "slide_type": "subslide"
    }
   },
   "source": [
    "# Probemos ahora:"
   ]
  },
  {
   "cell_type": "code",
   "execution_count": null,
   "id": "39b2dcfa",
   "metadata": {
    "slideshow": {
     "slide_type": "fragment"
    }
   },
   "outputs": [],
   "source": [
    "lista = [[1,2], [1, 2], [1, 2]]\n",
    "lista [0][1] = 'cambio'\n",
    "lista"
   ]
  },
  {
   "cell_type": "markdown",
   "id": "cleared-carrier",
   "metadata": {
    "slideshow": {
     "slide_type": "subslide"
    }
   },
   "source": [
    "# Probar en casa: más operaciones sobre listas\n",
    "\n",
    "- Algunos métodos o funciones aplicables a listas: **extend()**, **index()**, **remove()**,\t**pop()**, **count()**.\n",
    " \n",
    "- [+Info](https://docs.python.org/es/3/tutorial/datastructures.html) en la documentación oficial.\n"
   ]
  },
  {
   "cell_type": "markdown",
   "id": "caring-giving",
   "metadata": {
    "slideshow": {
     "slide_type": "subslide"
    }
   },
   "source": [
    "# ¿Se acuerdan de esta operación con cadenas?"
   ]
  },
  {
   "cell_type": "code",
   "execution_count": null,
   "id": "minor-mention",
   "metadata": {
    "slideshow": {
     "slide_type": "fragment"
    }
   },
   "outputs": [],
   "source": [
    "palabras = \"En esta clase aparecen grandes bandas\".split(\" \")\n",
    "palabras"
   ]
  },
  {
   "cell_type": "markdown",
   "id": "visible-witch",
   "metadata": {
    "slideshow": {
     "slide_type": "fragment"
    }
   },
   "source": [
    "Veamos de qué tipo es palabras ..."
   ]
  },
  {
   "cell_type": "code",
   "execution_count": null,
   "id": "2dcb5b41",
   "metadata": {
    "slideshow": {
     "slide_type": "fragment"
    }
   },
   "outputs": [],
   "source": []
  },
  {
   "cell_type": "markdown",
   "id": "spatial-preparation",
   "metadata": {
    "slideshow": {
     "slide_type": "subslide"
    }
   },
   "source": [
    "# Algo muy interesante: comprensión de listas\n",
    "\n",
    "(**list comprehension**)\n",
    "\n",
    "Observemos la siguiente definición: ¿cuáles serían los elementos de esta lista?"
   ]
  },
  {
   "cell_type": "code",
   "execution_count": null,
   "id": "resistant-accounting",
   "metadata": {
    "slideshow": {
     "slide_type": "fragment"
    }
   },
   "outputs": [],
   "source": [
    "import string\n",
    "\n",
    "letras = string.ascii_uppercase\n",
    "\n",
    "codigos = [ord(n) for n in letras]\n",
    "print(codigos)"
   ]
  },
  {
   "cell_type": "markdown",
   "id": "moral-retro",
   "metadata": {
    "slideshow": {
     "slide_type": "subslide"
    }
   },
   "source": [
    "¿Y en este otro caso?"
   ]
  },
  {
   "cell_type": "code",
   "execution_count": null,
   "id": "boxed-deviation",
   "metadata": {
    "slideshow": {
     "slide_type": "fragment"
    }
   },
   "outputs": [],
   "source": [
    "cuadrados = [num**2 for num in range(10) if num % 2 == 0]\n",
    "cuadrados"
   ]
  },
  {
   "cell_type": "markdown",
   "id": "70d10b61",
   "metadata": {
    "slideshow": {
     "slide_type": "subslide"
    }
   },
   "source": [
    "# Volviendo al desafio 3\n",
    "> Queremos procesar las duraciones de las películas de Harry Potter.\n",
    "\n",
    "Queremos saber:\n",
    "- cuál fue la duración, en minutos, promedio;\n",
    "- cuántas películas duran más que el promedio, en minutos.\n",
    "\n",
    "Panteamos otra solución:"
   ]
  },
  {
   "cell_type": "code",
   "execution_count": null,
   "id": "7803584a",
   "metadata": {
    "slideshow": {
     "slide_type": "subslide"
    }
   },
   "outputs": [],
   "source": [
    "duracion_pelis = [152, 161, 142, 157, 138, 153, 146, 130]\n",
    "promedio = sum(duracion_pelis) / len(duracion_pelis)\n",
    "mayor_prom = [n for n in duracion_pelis if n > promedio]\n",
    "mayor_prom"
   ]
  },
  {
   "cell_type": "markdown",
   "id": "00d82d20",
   "metadata": {
    "slideshow": {
     "slide_type": "subslide"
    }
   },
   "source": [
    "# Desafío 4 \n",
    "\n",
    "> Dada una alista de palabras, generar otra lista con aquellos verbos en infinitivo.\n",
    "(solo vamos a comprobar que terminen en \"ar\", \"er\" o \"ir\")\n"
   ]
  },
  {
   "cell_type": "code",
   "execution_count": null,
   "id": "6c0da541",
   "metadata": {
    "slideshow": {
     "slide_type": "fragment"
    }
   },
   "outputs": [],
   "source": [
    "palabras = [\"casa\", \"ir\", \"sol\", \"cantar\",\"correr\"]\n",
    "verbos = [pal for pal in palabras if pal.endswith((\"ar\", \"er\", \"ir\"))]\n",
    "verbos"
   ]
  },
  {
   "cell_type": "markdown",
   "id": "fifth-impression",
   "metadata": {
    "slideshow": {
     "slide_type": "slide"
    }
   },
   "source": [
    "# Tuplas: otro tipo de secuencias en Python\n",
    "\n",
    "- Al igual que las listas, son colecciones de datos ordenados."
   ]
  },
  {
   "cell_type": "code",
   "execution_count": null,
   "id": "super-macro",
   "metadata": {
    "slideshow": {
     "slide_type": "fragment"
    }
   },
   "outputs": [],
   "source": [
    "tupla = 1, 2 \n",
    "tupla1 = (1, 2)\n",
    "tupla2 = (1,)  # OJO con esto\n",
    "tupla3 = ()\n",
    "type(tupla2)"
   ]
  },
  {
   "cell_type": "markdown",
   "id": "071c5e11",
   "metadata": {
    "slideshow": {
     "slide_type": "subslide"
    }
   },
   "source": [
    " # Observemos detallamente el código del desafío 4"
   ]
  },
  {
   "cell_type": "code",
   "execution_count": null,
   "id": "4321f7c3",
   "metadata": {
    "slideshow": {
     "slide_type": "fragment"
    }
   },
   "outputs": [],
   "source": [
    "palabras = [\"casa\", \"ir\", \"sol\", \"cantar\",\"correr\"]\n",
    "verbos = [pal for pal in palabras if pal.endswith((\"ar\", \"er\", \"ir\"))]\n",
    "verbos"
   ]
  },
  {
   "cell_type": "markdown",
   "id": "f3224959",
   "metadata": {
    "slideshow": {
     "slide_type": "fragment"
    }
   },
   "source": [
    "En este caso, estamos pasando una tupla como argumento al método **endswith**."
   ]
  },
  {
   "cell_type": "markdown",
   "id": "vocational-palace",
   "metadata": {
    "slideshow": {
     "slide_type": "subslide"
    }
   },
   "source": [
    "## ¿Cuál es la diferencia con las listas?\n",
    "\n",
    "Veamos las siguientes situaciones."
   ]
  },
  {
   "cell_type": "markdown",
   "id": "applied-lease",
   "metadata": {
    "slideshow": {
     "slide_type": "subslide"
    }
   },
   "source": [
    "# Tuplas vs. listas"
   ]
  },
  {
   "cell_type": "code",
   "execution_count": null,
   "id": "drawn-cuisine",
   "metadata": {
    "slideshow": {
     "slide_type": "fragment"
    }
   },
   "outputs": [],
   "source": [
    "tupla = (1, 2)\n",
    "lista = [1, 2]\n",
    "\n",
    "elem = tupla[0]\n",
    "elem\n",
    "#print(len(tupla))"
   ]
  },
  {
   "cell_type": "markdown",
   "id": "dying-oriental",
   "metadata": {
    "slideshow": {
     "slide_type": "fragment"
    }
   },
   "source": [
    "- Se acceden a los elementos de igual manera: usando [] (empezando desde cero)\n",
    "- La función **len** retorna la cantidad de elementos en ambos casos.\n",
    "\n",
    "**¿Entonces?**"
   ]
  },
  {
   "cell_type": "markdown",
   "id": "e34e6b72",
   "metadata": {
    "slideshow": {
     "slide_type": "subslide"
    }
   },
   "source": [
    "## DIFERENCIA: las tuplas son INMUTABLES\n",
    "\n",
    "- Su tamaño y los valores de las mismas NO pueden cambiar."
   ]
  },
  {
   "cell_type": "code",
   "execution_count": null,
   "id": "subsequent-abuse",
   "metadata": {
    "slideshow": {
     "slide_type": "subslide"
    }
   },
   "outputs": [],
   "source": [
    "tupla = (1, 2)\n",
    "lista = [1, 2]\n",
    "\n",
    "#tupla[0] = \"uno\" # Esto da error\n",
    "tupla\n",
    "#tupla.append(\"algo\") # Esto da error"
   ]
  },
  {
   "cell_type": "markdown",
   "id": "republican-specification",
   "metadata": {
    "slideshow": {
     "slide_type": "fragment"
    }
   },
   "source": [
    "\n",
    "```\n",
    "TypeError: 'tuple' object does not support item assignment\n",
    "```\n",
    "### Tenemos que acostumbrarnos a leer los errores."
   ]
  },
  {
   "cell_type": "markdown",
   "id": "regulation-reaction",
   "metadata": {
    "slideshow": {
     "slide_type": "subslide"
    }
   },
   "source": [
    "# Obteniendo subtuplas"
   ]
  },
  {
   "cell_type": "code",
   "execution_count": null,
   "id": "fourth-tuition",
   "metadata": {
    "slideshow": {
     "slide_type": "fragment"
    }
   },
   "outputs": [],
   "source": [
    "tupla = (1, 2, 3, \"hola\")\n",
    "print(tupla[1:4])\n",
    "nueva_tupla = (\"nueva\",) + tupla[:2]\n",
    "print(nueva_tupla)"
   ]
  },
  {
   "cell_type": "code",
   "execution_count": null,
   "id": "italian-scroll",
   "metadata": {
    "slideshow": {
     "slide_type": "fragment"
    }
   },
   "outputs": [],
   "source": [
    "# ¿por qué da error este código?\n",
    "nueva_tupla = ('nueva') + tupla[1:3]\n",
    "nueva_tupla"
   ]
  },
  {
   "cell_type": "markdown",
   "id": "cloudy-feeling",
   "metadata": {
    "slideshow": {
     "slide_type": "slide"
    }
   },
   "source": [
    "# Desafío 5\n",
    "> Volvemos a procesar las películas de Harry Potter.\n",
    "\n",
    "Queremos saber:\n",
    "- cuál fue la duración, en minutos, promedio; y\n",
    "- **qué** películas duran más que el promedio, en minutos.\n",
    "\n",
    "¿Qué diferencia hay con el desafío 3?"
   ]
  },
  {
   "cell_type": "markdown",
   "id": "magnetic-compromise",
   "metadata": {
    "slideshow": {
     "slide_type": "fragment"
    }
   },
   "source": [
    "- Deberíamos ingresar no sólo las duraciones, sino también los nombres de las películas. \n",
    "- ¿Qué soluciones proponen?"
   ]
  },
  {
   "cell_type": "markdown",
   "id": "aerial-graph",
   "metadata": {
    "slideshow": {
     "slide_type": "subslide"
    }
   },
   "source": [
    "# ¿Qué les parece esta solución?"
   ]
  },
  {
   "cell_type": "code",
   "execution_count": null,
   "id": "separate-forward",
   "metadata": {
    "slideshow": {
     "slide_type": "fragment"
    }
   },
   "outputs": [],
   "source": [
    "peli = input(\"Ingresa el nombre de una película de Harry Potter (<FIN> para finalizar)\")\n",
    "lista = []\n",
    "while peli != \"FIN\":\n",
    "    cant_minutos = int(input(f\"Ingresa la duración de la película {peli}\"))\n",
    "    lista.append((peli, cant_minutos))\n",
    "    peli = input(\"Ingresa el nombre de una película de Harry Potter (<FIN> para finalizar)\")\n",
    "lista"
   ]
  },
  {
   "cell_type": "markdown",
   "id": "concerned-dealing",
   "metadata": {
    "slideshow": {
     "slide_type": "fragment"
    }
   },
   "source": [
    "- ¿Qué estructura de datos estoy usando?\n",
    "- Hay algo mejor..."
   ]
  },
  {
   "cell_type": "markdown",
   "id": "sound-edinburgh",
   "metadata": {
    "slideshow": {
     "slide_type": "subslide"
    }
   },
   "source": [
    "# Diccionarios en Python\n",
    "\n",
    "- Un diccionario es un conjunto **no ordenado** de pares de datos: **clave:valor**.\n",
    "- Se definen con **{** **}**."
   ]
  },
  {
   "cell_type": "code",
   "execution_count": null,
   "id": "induced-terrorist",
   "metadata": {
    "slideshow": {
     "slide_type": "fragment"
    }
   },
   "outputs": [],
   "source": [
    "pelis = {\"Harry Potter y la piedra filosofal (2001)\":152, \n",
    "         \"Harry Potter y la cámara secreta (2002)\": 161, \n",
    "         \"Harry Potter y el prisionero de Azkaban (2004)\": 142,\n",
    "         \"Harry Potter y el cáliz de fuego (2005)\": 157,\n",
    "         \"Harry Potter y la Orden del Fénix (2007)\":138,\n",
    "         \"Harry Potter y el misterio del príncipe (2009)\":153,\n",
    "         \"Harry Potter y las Reliquias de la Muerte - Parte 1 (2010)\":146,\n",
    "         \"Harry Potter y las Reliquias de la Muerte - Parte 2 (2011)\":130\n",
    "        }"
   ]
  },
  {
   "cell_type": "code",
   "execution_count": null,
   "id": "94506c3d",
   "metadata": {
    "slideshow": {
     "slide_type": "fragment"
    }
   },
   "outputs": [],
   "source": [
    "pelis[\"Harry Potter y la piedra filosofal (2001)\"]"
   ]
  },
  {
   "cell_type": "markdown",
   "id": "above-thunder",
   "metadata": {
    "slideshow": {
     "slide_type": "subslide"
    }
   },
   "source": [
    "# Las claves deben ser únicas e inmutables\n",
    "\n",
    "- Las **claves** pueden ser cualquier tipo **inmutable**.\n",
    "    - Las cadenas y números siempre pueden ser claves. \n",
    "    - Las tuplas se pueden usar sólo si no tienen objetos mutables. "
   ]
  },
  {
   "cell_type": "code",
   "execution_count": null,
   "id": "deadly-oklahoma",
   "metadata": {
    "slideshow": {
     "slide_type": "fragment"
    }
   },
   "outputs": [],
   "source": [
    "# Probar en casa cuáles de las siguientes instrucciones dan error\n",
    "\n",
    "#dicci = {\"uno\":1}\n",
    "#dicci = {1: \"uno\"}\n",
    "#dicci = {[1,2]: \"lista\"}\n",
    "#dicci = {(1,2): \"tupla\"}\n",
    "#dicci = {([1],2): \"tupla\"}\n",
    "#dicci"
   ]
  },
  {
   "cell_type": "markdown",
   "id": "therapeutic-brooks",
   "metadata": {
    "slideshow": {
     "slide_type": "subslide"
    }
   },
   "source": [
    "# ¿Cómo accedemos a los elementos?\n",
    "\n",
    "- Al igual que las listas y tuplas, se accede usando **[ ]** pero en vez de un índice que representa la posición, usamos la clave.\n",
    "- Es un error extraer un valor usando una clave no existente.\n"
   ]
  },
  {
   "cell_type": "code",
   "execution_count": null,
   "id": "pleasant-sociology",
   "metadata": {
    "slideshow": {
     "slide_type": "fragment"
    }
   },
   "outputs": [],
   "source": [
    "meses = {\"enero\": 31, \"febrero\": 28, \"marzo\": 31}\n",
    "meses"
   ]
  },
  {
   "cell_type": "markdown",
   "id": "perfect-range",
   "metadata": {
    "slideshow": {
     "slide_type": "subslide"
    }
   },
   "source": [
    "# ¿Cómo agregamos elementos?\n",
    "\n",
    "- Si se usa una clave que ya está en uso para guardar un valor, el valor que estaba asociado con esa clave se pierde, si no está la clave, se agrega."
   ]
  },
  {
   "cell_type": "code",
   "execution_count": null,
   "id": "cardiovascular-louisiana",
   "metadata": {
    "slideshow": {
     "slide_type": "fragment"
    }
   },
   "outputs": [],
   "source": [
    "meses[\"febrero\"] = 29\n",
    "meses[\"abril\"] = 30\n",
    "meses"
   ]
  },
  {
   "cell_type": "markdown",
   "id": "prerequisite-daniel",
   "metadata": {
    "slideshow": {
     "slide_type": "subslide"
    }
   },
   "source": [
    "# Volviendo al desafío planteado ... \n",
    "\n",
    "- Nos falta saber cómo definir un diccionario vacío para luego ir agregando los valores."
   ]
  },
  {
   "cell_type": "code",
   "execution_count": null,
   "id": "unlike-airplane",
   "metadata": {
    "slideshow": {
     "slide_type": "fragment"
    }
   },
   "outputs": [],
   "source": [
    "peli = input(\"Ingresa el nombre de una película de Harry Potter nombre (<FIN> para finalizar)\")\n",
    "dicci = {}\n",
    "while peli != \"FIN\":\n",
    "    cant_minutos = int(input(f\"Ingresa la duración de la película  {peli}\"))\n",
    "    dicci[peli] = cant_minutos\n",
    "    peli = input(\"Ingresa el nombre de una película de Harry Potter nombre (<FIN> para finalizar)\")\n",
    "dicci"
   ]
  },
  {
   "cell_type": "markdown",
   "id": "hungry-focus",
   "metadata": {
    "slideshow": {
     "slide_type": "subslide"
    }
   },
   "source": [
    "# ¿Cómo recorremos un diccionario?\n"
   ]
  },
  {
   "cell_type": "code",
   "execution_count": null,
   "id": "dependent-module",
   "metadata": {
    "slideshow": {
     "slide_type": "fragment"
    }
   },
   "outputs": [],
   "source": [
    "musica = {\"rock\": [\"Riff\", \"La Renga\", \"La Torre\"], \n",
    "          \"blues\": [\"La Mississippi\", \"Memphis\", \"violeta\"]}\n",
    "\n",
    "\n",
    "for elem in musica:\n",
    "    print(elem)"
   ]
  },
  {
   "cell_type": "markdown",
   "id": "5d767f7a",
   "metadata": {
    "slideshow": {
     "slide_type": "fragment"
    }
   },
   "source": [
    "¿A qué referencia la variable **elem**?"
   ]
  },
  {
   "cell_type": "markdown",
   "id": "428af680",
   "metadata": {
    "slideshow": {
     "slide_type": "subslide"
    }
   },
   "source": [
    "Si queremos mostrar los valores:"
   ]
  },
  {
   "cell_type": "code",
   "execution_count": null,
   "id": "e1bee25d",
   "metadata": {
    "slideshow": {
     "slide_type": "fragment"
    }
   },
   "outputs": [],
   "source": [
    "musica = {\"rock\": [\"Riff\", \"La Renga\", \"La Torre\"], \n",
    "          \"blues\": [\"La Mississippi\", \"Memphis\", \"violeta\"]}\n",
    "\n",
    "for elem in musica:\n",
    "    print(musica[elem])"
   ]
  },
  {
   "cell_type": "markdown",
   "id": "therapeutic-henry",
   "metadata": {
    "slideshow": {
     "slide_type": "subslide"
    }
   },
   "source": [
    "# Existen algunos métodos útiles:"
   ]
  },
  {
   "cell_type": "code",
   "execution_count": null,
   "id": "consecutive-unemployment",
   "metadata": {
    "slideshow": {
     "slide_type": "fragment"
    }
   },
   "outputs": [],
   "source": [
    "claves = musica.keys()\n",
    "valores = musica.values()\n",
    "items = musica.items()"
   ]
  },
  {
   "cell_type": "code",
   "execution_count": null,
   "id": "aerial-willow",
   "metadata": {
    "slideshow": {
     "slide_type": "fragment"
    }
   },
   "outputs": [],
   "source": [
    "for elem in claves:\n",
    "    print(elem) "
   ]
  },
  {
   "cell_type": "markdown",
   "id": "extreme-oliver",
   "metadata": {
    "slideshow": {
     "slide_type": "subslide"
    }
   },
   "source": [
    "# El operador in en diccionarios"
   ]
  },
  {
   "cell_type": "code",
   "execution_count": null,
   "id": "cultural-decision",
   "metadata": {
    "slideshow": {
     "slide_type": "fragment"
    }
   },
   "outputs": [],
   "source": [
    "musica = {\"rock\": [\"Riff\", \"La Renga\", \"La Torre\"], \n",
    "          \"blues\": [\"La Mississippi\", \"Memphis\", \"violeta\"]}\n",
    "\"Riff\" in musica"
   ]
  },
  {
   "cell_type": "markdown",
   "id": "material-undergraduate",
   "metadata": {
    "slideshow": {
     "slide_type": "fragment"
    }
   },
   "source": [
    "- ¿Verifica en las claves o los valores?"
   ]
  },
  {
   "cell_type": "markdown",
   "id": "imposed-partner",
   "metadata": {
    "slideshow": {
     "slide_type": "subslide"
    }
   },
   "source": [
    "# Observemos este código"
   ]
  },
  {
   "cell_type": "code",
   "execution_count": null,
   "id": "primary-reset",
   "metadata": {
    "slideshow": {
     "slide_type": "fragment"
    }
   },
   "outputs": [],
   "source": [
    "meses = {\"enero\": 31, \"febrero\": 28, \"marzo\": 31}\n",
    "meses1 = meses\n",
    "meses2 = meses.copy()\n",
    "print(id(meses))\n",
    "print(id(meses1))\n",
    "print(id(meses2))"
   ]
  },
  {
   "cell_type": "markdown",
   "id": "functioning-development",
   "metadata": {
    "slideshow": {
     "slide_type": "fragment"
    }
   },
   "source": [
    "¿Qué significa?"
   ]
  },
  {
   "cell_type": "code",
   "execution_count": null,
   "id": "suffering-quilt",
   "metadata": {
    "slideshow": {
     "slide_type": "fragment"
    }
   },
   "outputs": [],
   "source": [
    "meses1[\"abril\"] = 30\n",
    "meses2[\"abril\"] = 43\n",
    "meses"
   ]
  },
  {
   "cell_type": "markdown",
   "id": "northern-appliance",
   "metadata": {
    "slideshow": {
     "slide_type": "subslide"
    }
   },
   "source": [
    "# Más operaciones\n",
    "\n",
    "**Probar en casa:**\n",
    "\n",
    "- **del**: permite borrar un par clave:valor\n",
    "- **clear()**: permite borrar todo\n"
   ]
  },
  {
   "cell_type": "code",
   "execution_count": null,
   "id": "76fedc8c",
   "metadata": {
    "slideshow": {
     "slide_type": "fragment"
    }
   },
   "outputs": [],
   "source": [
    "# Probamos del y clear"
   ]
  },
  {
   "cell_type": "markdown",
   "id": "imposed-maple",
   "metadata": {
    "slideshow": {
     "slide_type": "subslide"
    }
   },
   "source": [
    "# Otra forma de crear diccionarios\n",
    "\n",
    "- Podemos usar **dict()**.\n",
    "- Se denomia \"constructor\" y crea un diccionario directamente desde una secuencia de pares clave-valor. "
   ]
  },
  {
   "cell_type": "code",
   "execution_count": null,
   "id": "recovered-karen",
   "metadata": {
    "slideshow": {
     "slide_type": "fragment"
    }
   },
   "outputs": [],
   "source": [
    "dicci = dict([(\"enero\", 31), (\"febrero\", 28), (\"marzo\", 31)])\n",
    "dicci"
   ]
  },
  {
   "cell_type": "markdown",
   "id": "04d89398",
   "metadata": {
    "slideshow": {
     "slide_type": "fragment"
    }
   },
   "source": [
    "- ¿Qué tipos de datos se pueden usar para la secuencia?\n",
    "- ¿Y para los pares clave-valor?"
   ]
  },
  {
   "cell_type": "markdown",
   "id": "sacred-berkeley",
   "metadata": {
    "slideshow": {
     "slide_type": "subslide"
    }
   },
   "source": [
    "# Por comprensión"
   ]
  },
  {
   "cell_type": "code",
   "execution_count": null,
   "id": "basic-destiny",
   "metadata": {
    "slideshow": {
     "slide_type": "fragment"
    }
   },
   "outputs": [],
   "source": [
    "dict ([(x, x**2) for x in (2, 4, 6)]) "
   ]
  },
  {
   "cell_type": "code",
   "execution_count": null,
   "id": "inner-arlington",
   "metadata": {
    "slideshow": {
     "slide_type": "fragment"
    }
   },
   "outputs": [],
   "source": [
    "import string\n",
    "\n",
    "caracteres = dict([(n, ord(n)) for n in string.digits])\n",
    "caracteres"
   ]
  },
  {
   "cell_type": "markdown",
   "id": "downtown-audience",
   "metadata": {
    "slideshow": {
     "slide_type": "slide"
    }
   },
   "source": [
    "#  Funciones en Python: una forma de definir procesos o subprogramas\n",
    "\n",
    "Veamos un pseudocódigo de la solución del **desafío 5**:\n",
    "```\n",
    "Ingresar los nombres y duración  de las películas.\n",
    "Calcular el promedio.\n",
    "Mostrar qué  películas duran más que el promedio.\n",
    "```\n",
    "\n",
    "Podríamos pensar en dividir en tres procesos: "
   ]
  },
  {
   "cell_type": "markdown",
   "id": "surprising-aging",
   "metadata": {
    "slideshow": {
     "slide_type": "subslide"
    }
   },
   "source": [
    "- En Python, usamos **funciones** para definir estos procesos.\n",
    "- Las funciones pueden recibir **parámetros**.\n",
    "- Y también retornan siempre un valor. Esto puede hacerse en forma implícita o explícita usando la sentencia **return**."
   ]
  },
  {
   "cell_type": "markdown",
   "id": "posted-strength",
   "metadata": {
    "slideshow": {
     "slide_type": "subslide"
    }
   },
   "source": [
    "# Ya usamos funciones\n",
    "\n",
    "\n",
    "- float(), int(), str()\n",
    "- len(), ord()\n",
    "- input(), print()"
   ]
  },
  {
   "cell_type": "markdown",
   "id": "79e3b09e",
   "metadata": {
    "slideshow": {
     "slide_type": "fragment"
    }
   },
   "source": [
    "En estos ejemplos, sólo **invocamos** a las funciones ya definidas. "
   ]
  },
  {
   "cell_type": "markdown",
   "id": "cooperative-express",
   "metadata": {
    "slideshow": {
     "slide_type": "subslide"
    }
   },
   "source": [
    "# Podemos definir nuestras propias funciones \n",
    "\n",
    "```python\n",
    "\tdef nombre_funcion(parametros):\n",
    "\t\tsentencias\n",
    "\t\treturn <expresion>\n",
    "```\n",
    "- **IMPORTANTE:** el cuerpo de la función debe estar **indentado**.\n"
   ]
  },
  {
   "cell_type": "markdown",
   "id": "wicked-prototype",
   "metadata": {
    "slideshow": {
     "slide_type": "subslide"
    }
   },
   "source": [
    "# La función para el primer proceso del desafío"
   ]
  },
  {
   "cell_type": "code",
   "execution_count": null,
   "id": "martial-tackle",
   "metadata": {
    "slideshow": {
     "slide_type": "fragment"
    }
   },
   "outputs": [],
   "source": [
    "def ingreso_pelis():\n",
    "    \"\"\" Esta función retorna un diccionario con los nombres y duración de películas \"\"\"\n",
    "    \n",
    "    peli = input(\"Ingresa el nombre de una película de Harry Potter nombre (<FIN> para finalizar)\")\n",
    "    dicci = {}\n",
    "    while peli != \"FIN\":\n",
    "        cant_minutos = int(input(f\"Ingresa la duración de la película  {peli}\"))\n",
    "        dicci[peli] = cant_minutos\n",
    "        peli = input(\"Ingresa el nombre de una película de Harry Potter nombre (<FIN> para finalizar)\")\n",
    "    return dicci\n",
    "    \n",
    "pelis = ingreso_pelis()\n",
    "pelis"
   ]
  },
  {
   "cell_type": "markdown",
   "id": "former-orbit",
   "metadata": {
    "slideshow": {
     "slide_type": "fragment"
    }
   },
   "source": [
    "- **¡IMPORTANTE!** Definición vs. invocación."
   ]
  },
  {
   "cell_type": "markdown",
   "id": "7d43185f",
   "metadata": {
    "slideshow": {
     "slide_type": "subslide"
    }
   },
   "source": [
    "## ¿Qué pasa si no incluyo el **return**?"
   ]
  },
  {
   "cell_type": "code",
   "execution_count": null,
   "id": "debd5124",
   "metadata": {
    "slideshow": {
     "slide_type": "fragment"
    }
   },
   "outputs": [],
   "source": [
    "def demo_funcion_sin_return():\n",
    "    var = 10\n",
    "    print(var)\n",
    "demo_funcion_sin_return()"
   ]
  },
  {
   "cell_type": "markdown",
   "id": "77d6f3cd",
   "metadata": {
    "slideshow": {
     "slide_type": "subslide"
    }
   },
   "source": [
    "# Tarea para el hogar: definir las otras dos funciones para completar el desafio\n",
    "\n",
    "- Los que quieran, pueden subir el código a su  repositorio en  GitHub y compartir el enlace a la cuenta **@clauBanchoff**\n"
   ]
  },
  {
   "cell_type": "markdown",
   "id": "23b84b60",
   "metadata": {
    "slideshow": {
     "slide_type": "slide"
    }
   },
   "source": [
    "# Un artículo sobre las reglas de estilo\n",
    ".\n",
    "\n",
    "[How to Write Beautiful Python Code With PEP 8](https://realpython.com/python-pep8/)"
   ]
  },
  {
   "cell_type": "markdown",
   "id": "7a6f526d",
   "metadata": {
    "slideshow": {
     "slide_type": "slide"
    }
   },
   "source": [
    "# Seguimos la próxima  ..."
   ]
  }
 ],
 "metadata": {
  "celltoolbar": "Slideshow",
  "kernelspec": {
   "display_name": "Python 3 (ipykernel)",
   "language": "python",
   "name": "python3"
  },
  "language_info": {
   "codemirror_mode": {
    "name": "ipython",
    "version": 3
   },
   "file_extension": ".py",
   "mimetype": "text/x-python",
   "name": "python",
   "nbconvert_exporter": "python",
   "pygments_lexer": "ipython3",
   "version": "3.11.2"
  }
 },
 "nbformat": 4,
 "nbformat_minor": 5
}
