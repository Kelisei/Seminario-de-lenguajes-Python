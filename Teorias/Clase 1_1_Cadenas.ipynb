{
 "cells": [
  {
   "cell_type": "markdown",
   "id": "mobile-stanford",
   "metadata": {
    "slideshow": {
     "slide_type": "slide"
    }
   },
   "source": [
    "# Seminario de Lenguajes - Python\n",
    "\n",
    "## Temario\n",
    " - Cadenas de caracteres\n",
    " - Función range()"
   ]
  },
  {
   "cell_type": "markdown",
   "id": "b26fd8aa",
   "metadata": {
    "slideshow": {
     "slide_type": "slide"
    }
   },
   "source": [
    "# Tipos de datos\n",
    "\n",
    "## ¿Qué nos indica un tipo de datos?"
   ]
  },
  {
   "cell_type": "markdown",
   "id": "9363a007",
   "metadata": {
    "slideshow": {
     "slide_type": "fragment"
    }
   },
   "source": [
    "- El tipo de datos nos indica **qué valores** y **qué operaciones** podemos hacer con una determinada variable."
   ]
  },
  {
   "cell_type": "markdown",
   "id": "natural-transaction",
   "metadata": {
    "slideshow": {
     "slide_type": "subslide"
    }
   },
   "source": [
    "# ¿Qué tipos de datos vimos en la clase?\n",
    "\n",
    "- Números: **int** y **float**\n",
    "- Booleanos: **bool** (que mencionamos que eran números también)\n",
    "- Cadenas de caracteres: **str**\n",
    "\n",
    "La función **type()** nos permite saber de qué tipo es un determinado objeto referenciado por una variable. "
   ]
  },
  {
   "cell_type": "code",
   "execution_count": null,
   "id": "palestinian-thesaurus",
   "metadata": {
    "slideshow": {
     "slide_type": "fragment"
    }
   },
   "outputs": [],
   "source": [
    "x = True\n",
    "type(x)"
   ]
  },
  {
   "cell_type": "markdown",
   "id": "original-bristol",
   "metadata": {
    "slideshow": {
     "slide_type": "subslide"
    }
   },
   "source": [
    "# También vimos que  hay algunas conversiones de tipo implícitas y otras explícitas"
   ]
  },
  {
   "cell_type": "code",
   "execution_count": null,
   "id": "baking-pickup",
   "metadata": {
    "slideshow": {
     "slide_type": "fragment"
    }
   },
   "outputs": [],
   "source": [
    "mitad = 10 / 2\n",
    "type(mitad)"
   ]
  },
  {
   "cell_type": "code",
   "execution_count": null,
   "id": "charged-earth",
   "metadata": {
    "slideshow": {
     "slide_type": "fragment"
    }
   },
   "outputs": [],
   "source": [
    "mitad = int(10 / 2)\n",
    "type(mitad)"
   ]
  },
  {
   "cell_type": "markdown",
   "id": "cellular-chain",
   "metadata": {
    "slideshow": {
     "slide_type": "subslide"
    }
   },
   "source": [
    "# Las cadenas de caracteres\n",
    "\n",
    "- Secuencia de caracteres encerrados entre comillas simples ' ' o comillas dobles \" \".\n",
    "- También se  pueden definir con \"\"\" \"\"\". \n",
    "\n"
   ]
  },
  {
   "cell_type": "code",
   "execution_count": null,
   "id": "2b8c861f",
   "metadata": {
    "slideshow": {
     "slide_type": "fragment"
    }
   },
   "outputs": [],
   "source": [
    "mensaje_de_error = \"ATENCION: la opción ingresada no es correcta.\"\n",
    "mensaje_de_error"
   ]
  },
  {
   "cell_type": "code",
   "execution_count": null,
   "id": "challenging-collapse",
   "metadata": {
    "slideshow": {
     "slide_type": "fragment"
    }
   },
   "outputs": [],
   "source": [
    "menu = \"\"\" Menú de opciones:\n",
    "            1.- Jugar\n",
    "            2.- Configurar el juego\n",
    "            3.- Salir\n",
    "        \"\"\"\n",
    "print(menu)"
   ]
  },
  {
   "cell_type": "markdown",
   "id": "ranging-roulette",
   "metadata": {
    "slideshow": {
     "slide_type": "slide"
    }
   },
   "source": [
    "# Operaciones con cadenas de caracteres\n",
    "- Concatenación: **+**\n",
    "- Repetición: **\\***\n",
    "- Longitud de la cadena: **len()** "
   ]
  },
  {
   "cell_type": "code",
   "execution_count": null,
   "id": "southeast-monitoring",
   "metadata": {
    "slideshow": {
     "slide_type": "fragment"
    }
   },
   "outputs": [],
   "source": [
    "cadena = \"Python \"\n",
    "otra_cadena = \"es lo más!\"\n",
    "print(cadena + otra_cadena)\n",
    "print(cadena * 5)\n",
    "print(len(cadena))"
   ]
  },
  {
   "cell_type": "markdown",
   "id": "careful-growth",
   "metadata": {
    "slideshow": {
     "slide_type": "subslide"
    }
   },
   "source": [
    "# Algo más sobre cadenas de caracteres\n",
    "\n",
    "- Cada elemento de la cadena se accede mediante un índice entre []\n",
    "<center>\n",
    "<img src=\"imagenes/cadena-Python.png\" alt=\"cadenas en Python\" style=\"width:500px;\"/></center>"
   ]
  },
  {
   "cell_type": "code",
   "execution_count": null,
   "id": "protecting-cotton",
   "metadata": {
    "slideshow": {
     "slide_type": "fragment"
    }
   },
   "outputs": [],
   "source": [
    "cadena = \"Python\"\n",
    "cadena[-2]"
   ]
  },
  {
   "cell_type": "markdown",
   "id": "circular-spotlight",
   "metadata": {
    "slideshow": {
     "slide_type": "fragment"
    }
   },
   "source": [
    "- El índice puede ser negativo."
   ]
  },
  {
   "cell_type": "markdown",
   "id": "loose-forum",
   "metadata": {
    "slideshow": {
     "slide_type": "subslide"
    }
   },
   "source": [
    "# Subcadenas - slicing\n",
    "\n",
    "<center>\n",
    "<img src=\"imagenes/cadena-Python.png\" alt=\"cadenas en Python\" style=\"width:500px;\"/></center>"
   ]
  },
  {
   "cell_type": "code",
   "execution_count": null,
   "id": "coordinated-grave",
   "metadata": {
    "slideshow": {
     "slide_type": "fragment"
    }
   },
   "outputs": [],
   "source": [
    "#cadena[3:]\n",
    "cadena[:]"
   ]
  },
  {
   "cell_type": "markdown",
   "id": "entertaining-score",
   "metadata": {
    "slideshow": {
     "slide_type": "fragment"
    }
   },
   "source": [
    "- El operador **:** permite obtener subcadenas. Esto se denomina **slicing**.\n",
    "- El formato es **cadena[inicio:fin]**\n",
    "- NO incluye al elemento cuyo índice es **fin**.\n",
    "- **[:]** devuelve  toda la cadena.\n",
    "- **Si los índices son negativos, se recorre de derecha a izquierda.**"
   ]
  },
  {
   "cell_type": "markdown",
   "id": "wooden-still",
   "metadata": {
    "slideshow": {
     "slide_type": "subslide"
    }
   },
   "source": [
    "# Probemos esto: \n"
   ]
  },
  {
   "cell_type": "code",
   "execution_count": null,
   "id": "personalized-power",
   "metadata": {
    "slideshow": {
     "slide_type": "fragment"
    }
   },
   "outputs": [],
   "source": [
    "cadena[1] = 'm'"
   ]
  },
  {
   "cell_type": "markdown",
   "id": "intense-bench",
   "metadata": {
    "slideshow": {
     "slide_type": "fragment"
    }
   },
   "source": [
    "- **Las cadenas son INMUTABLES.**\n",
    "\n",
    "```\n",
    "TypeError: 'str' object does not support item assignment\n",
    "\n",
    "```\n",
    "### Tenemos que acostumbrarnos a leer los mensajes de  error."
   ]
  },
  {
   "cell_type": "markdown",
   "id": "alert-fleet",
   "metadata": {
    "slideshow": {
     "slide_type": "slide"
    }
   },
   "source": [
    "# Algo más sobre cadenas de caracteres\n",
    "\n",
    "- Ya mencionamos que en Python, todos son objetos. \n",
    "- Si bien retornaremos a esto más adelante, podemos mencionar que los objetos tienen **propiedades y métodos**.\n",
    "    - objeto.propiedad \n",
    "    - objeto.metodo()\n",
    "- Volviendo a las cadenas, algunos métodos que podemos utilizar son:\n"
   ]
  },
  {
   "cell_type": "code",
   "execution_count": null,
   "id": "interesting-asbestos",
   "metadata": {
    "slideshow": {
     "slide_type": "fragment"
    }
   },
   "outputs": [],
   "source": [
    "cadena = \"Python es lo más!\"\n",
    "#cadena.upper()\n",
    "cadena.lower()"
   ]
  },
  {
   "cell_type": "code",
   "execution_count": null,
   "id": "81767831",
   "metadata": {
    "slideshow": {
     "slide_type": "fragment"
    }
   },
   "outputs": [],
   "source": [
    "cadena.islower()\n",
    "#cadena.isupper()"
   ]
  },
  {
   "cell_type": "markdown",
   "id": "dff24578",
   "metadata": {
    "slideshow": {
     "slide_type": "subslide"
    }
   },
   "source": [
    "## Algo un poco más interesante:"
   ]
  },
  {
   "cell_type": "code",
   "execution_count": null,
   "id": "7941f7ca",
   "metadata": {
    "slideshow": {
     "slide_type": "fragment"
    }
   },
   "outputs": [],
   "source": [
    "cadena = \"Somos campeones del mundo!!!!!!\"\n",
    "cadena.count(\"!\")"
   ]
  },
  {
   "cell_type": "code",
   "execution_count": null,
   "id": "17a32a00",
   "metadata": {
    "slideshow": {
     "slide_type": "fragment"
    }
   },
   "outputs": [],
   "source": [
    "cadena.center(70, \"*\")"
   ]
  },
  {
   "cell_type": "code",
   "execution_count": null,
   "id": "553a644e",
   "metadata": {
    "slideshow": {
     "slide_type": "fragment"
    }
   },
   "outputs": [],
   "source": [
    "\"   Somos campeones del mundo!!!!!    \".strip()"
   ]
  },
  {
   "cell_type": "markdown",
   "id": "80fa6544",
   "metadata": {
    "slideshow": {
     "slide_type": "subslide"
    }
   },
   "source": [
    "# Y un poco más..."
   ]
  },
  {
   "cell_type": "code",
   "execution_count": null,
   "id": "4350b80b",
   "metadata": {
    "slideshow": {
     "slide_type": "fragment"
    }
   },
   "outputs": [],
   "source": [
    "cadena = \"_caminor\"\n",
    "#cadena.startswith(\"2\")\n",
    "cadena.endswith((\"ar\", \"er\", \"ir\"))"
   ]
  },
  {
   "cell_type": "code",
   "execution_count": null,
   "id": "f1259353",
   "metadata": {
    "slideshow": {
     "slide_type": "fragment"
    }
   },
   "outputs": [],
   "source": [
    "\"Somos campeones del  mundo!!!\".split()"
   ]
  },
  {
   "cell_type": "markdown",
   "id": "6e52c9f9",
   "metadata": {
    "slideshow": {
     "slide_type": "fragment"
    }
   },
   "source": [
    "Probar: ¿de qué tipo es el objeto retornado por split?"
   ]
  },
  {
   "cell_type": "markdown",
   "id": "known-shaft",
   "metadata": {
    "slideshow": {
     "slide_type": "fragment"
    }
   },
   "source": [
    "- [+Info](https://docs.python.org/3/library/stdtypes.html#str)"
   ]
  },
  {
   "cell_type": "markdown",
   "id": "formed-ticket",
   "metadata": {
    "slideshow": {
     "slide_type": "subslide"
    }
   },
   "source": [
    "# El operador in\n",
    "\n",
    "- Este operador retorna True o False de acuerdo a si un elemento está en una colección o no. \n",
    "- Las cadenas de caracteres son **secuencias de caracteres** por lo que puede utilizarse este operador.\n"
   ]
  },
  {
   "cell_type": "code",
   "execution_count": null,
   "id": "republican-ground",
   "metadata": {
    "slideshow": {
     "slide_type": "fragment"
    }
   },
   "outputs": [],
   "source": [
    "palabra = input(\"Ingresá una palabra: \")\n",
    "if \"a\" in palabra:\n",
    "    print(\"Hay letras a.\")\n",
    "else:\n",
    "    print(\"No hay letras a. \")"
   ]
  },
  {
   "cell_type": "markdown",
   "id": "absolute-librarian",
   "metadata": {
    "slideshow": {
     "slide_type": "slide"
    }
   },
   "source": [
    "# El módulo string \n",
    "\n",
    "- Python tiene un módulo denominado [string](https://docs.python.org/es/3/library/string.html) que contiene mucha funcionalidad para la manipulación de cadenas. \n",
    "- Para acceder a esta funcionalidad hay que **importarla**. Esto lo veremos en detalle más adelante.\n"
   ]
  },
  {
   "cell_type": "code",
   "execution_count": null,
   "id": "correct-flash",
   "metadata": {
    "slideshow": {
     "slide_type": "fragment"
    }
   },
   "outputs": [],
   "source": [
    "import string\n",
    "letras = string.ascii_letters\n",
    "minusculas = string.ascii_lowercase\n",
    "digitos = string.digits\n",
    "\n",
    "digitos"
   ]
  },
  {
   "cell_type": "markdown",
   "id": "514fe41d",
   "metadata": {
    "slideshow": {
     "slide_type": "subslide"
    }
   },
   "source": [
    "Ahora podemos tener otra solución al desafío que planteamos en clase:\n",
    "> Dado una letra ingresada por el teclado, queremos saber si es mayúscula o minúscula."
   ]
  },
  {
   "cell_type": "code",
   "execution_count": null,
   "id": "18881c77",
   "metadata": {
    "slideshow": {
     "slide_type": "fragment"
    }
   },
   "outputs": [],
   "source": [
    "import string\n",
    "minusculas = string.ascii_lowercase\n",
    "mayusculas = string.ascii_uppercase\n",
    "\n",
    "letra = input(\"Ingresar una letra: \")\n",
    "if letra in minusculas:\n",
    "    print(\"Es minuscula.\")\n",
    "elif letra in mayusculas:\n",
    "    print(\"Es mayúscula.\")\n",
    "else:\n",
    "    print(\"No es una letra.\")"
   ]
  },
  {
   "cell_type": "markdown",
   "id": "signed-volleyball",
   "metadata": {
    "slideshow": {
     "slide_type": "slide"
    }
   },
   "source": [
    "# Cadenas con formato\n",
    "\n",
    "- Es posible definir cadenas con determinados formatos utilizando el método **format**.\n",
    "- La forma general es:\n",
    "```python\n",
    "cadena.format(argumentos)\n",
    "```\n",
    "- Observemos los siguientes ejemplos:"
   ]
  },
  {
   "cell_type": "code",
   "execution_count": null,
   "id": "democratic-phenomenon",
   "metadata": {
    "slideshow": {
     "slide_type": "fragment"
    }
   },
   "outputs": [],
   "source": [
    "intentos = 5\n",
    "print('Hola {} !!! Ganaste! y necesitaste {} intentos!!!'.format(\"Lionel\", intentos))"
   ]
  },
  {
   "cell_type": "code",
   "execution_count": null,
   "id": "hungry-claim",
   "metadata": {
    "slideshow": {
     "slide_type": "fragment"
    }
   },
   "outputs": [],
   "source": [
    "for num in \"123\":\n",
    "    x = int(num)\n",
    "    print(\"{0:2d} {1:3d} {2:4d}\".format(x, x*x, x*x*x))"
   ]
  },
  {
   "cell_type": "markdown",
   "id": "careful-appointment",
   "metadata": {
    "slideshow": {
     "slide_type": "subslide"
    }
   },
   "source": [
    "# Los f-String\n",
    "\n",
    "- Fueron introducidos a partir de la versión 3.6.\n",
    "- Ver la [PEP 498](https://www.python.org/dev/peps/pep-0498/)\n",
    "- [+Info](https://docs.python.org/3/reference/lexical_analysis.html#f-strings) en la documentación oficial\n",
    "- Es una forma más sencilla de usar el format."
   ]
  },
  {
   "cell_type": "markdown",
   "id": "13fbee8a",
   "metadata": {
    "slideshow": {
     "slide_type": "subslide"
    }
   },
   "source": [
    "# Un ejemplo"
   ]
  },
  {
   "cell_type": "code",
   "execution_count": null,
   "id": "alpine-burlington",
   "metadata": {
    "slideshow": {
     "slide_type": "fragment"
    }
   },
   "outputs": [],
   "source": [
    "intentos = 5\n",
    "nombre = \"Lionel\"\n",
    "print(f'Hola {nombre} !!! Ganaste! y necesitaste {intentos} intentos!!!')\n",
    "x = 4\n",
    "print(f\"{x:2d} {x*x:3d} {x*x*x:4d}\")"
   ]
  },
  {
   "cell_type": "markdown",
   "id": "seasonal-solid",
   "metadata": {
    "slideshow": {
     "slide_type": "subslide"
    }
   },
   "source": [
    "# Algunas cosas interesantes\n"
   ]
  },
  {
   "cell_type": "code",
   "execution_count": null,
   "id": "acoustic-combat",
   "metadata": {
    "slideshow": {
     "slide_type": "fragment"
    }
   },
   "outputs": [],
   "source": [
    "cad1 = \"En Argentina nací\"\n",
    "cad2 = \"Tierra del Diego y Lionel\"\n",
    "cad3 = \"De los pibes de Malvinas\"\n",
    "cad4 = \"Que jamás olvidaré.\"\n",
    "\n",
    "print(cad1)\n",
    "print(cad2)\n",
    "print(cad3)\n",
    "print(cad4)"
   ]
  },
  {
   "cell_type": "code",
   "execution_count": null,
   "id": "dc02f1d8",
   "metadata": {
    "slideshow": {
     "slide_type": "fragment"
    }
   },
   "outputs": [],
   "source": [
    "print(f\"La mejor canción de todas:\\n{cad1:<30}\\n{cad2:>50}\")\n",
    "print(f\"\\n{cad3:^30}\")\n",
    "print(f\"\\n{cad4:*^50}\")"
   ]
  },
  {
   "cell_type": "markdown",
   "id": "outstanding-niger",
   "metadata": {
    "slideshow": {
     "slide_type": "slide"
    }
   },
   "source": [
    "# Un artículo sobre sistemas de codificación \n",
    "\n",
    "-[Unicode & Character Encodings in Python: A Painless Guide](https://realpython.com/python-encodings-guide/#pythons-built-in-functions)"
   ]
  },
  {
   "cell_type": "markdown",
   "id": "operating-creature",
   "metadata": {
    "slideshow": {
     "slide_type": "slide"
    }
   },
   "source": [
    "# Un desafío\n",
    "\n",
    "> Escribir un programa que ingrese 4 palabras desde el teclado e imprima aquellas que contienen la letra \"r\".\n",
    "- **Pensar:** ¿podemos usar la instrucción **for** tal como la usamos hasta ahora para generar las 4 iteraciones?"
   ]
  },
  {
   "cell_type": "markdown",
   "id": "powerful-marijuana",
   "metadata": {
    "slideshow": {
     "slide_type": "subslide"
    }
   },
   "source": [
    "- La sentencia **for** permite iterar sobre una **secuencia**.  \n",
    "\n",
    "```python\n",
    "for variable in secuencia: \n",
    "\t\tinstrucción\n",
    "\t\tinstrucción\n",
    "\t\t...\n",
    "\t\tinstrucción\n",
    "```"
   ]
  },
  {
   "cell_type": "code",
   "execution_count": null,
   "id": "basic-knowing",
   "metadata": {
    "slideshow": {
     "slide_type": "fragment"
    }
   },
   "outputs": [],
   "source": [
    "cadena = \"0123\"\n",
    "for elem in cadena:\n",
    "    print(elem)"
   ]
  },
  {
   "cell_type": "markdown",
   "id": "adapted-necklace",
   "metadata": {
    "slideshow": {
     "slide_type": "subslide"
    }
   },
   "source": [
    "# Alguien podría pensar en plantear esto:\n"
   ]
  },
  {
   "cell_type": "code",
   "execution_count": null,
   "id": "affecting-mounting",
   "metadata": {
    "slideshow": {
     "slide_type": "fragment"
    }
   },
   "outputs": [],
   "source": [
    "for i in \"1234\":\n",
    "    cadena = input(\"Ingresá una palabra: \")\n",
    "    if \"r\" in cadena:\n",
    "        print(cadena)"
   ]
  },
  {
   "cell_type": "markdown",
   "id": "solved-glance",
   "metadata": {
    "slideshow": {
     "slide_type": "fragment"
    }
   },
   "source": [
    "Pero.. ¿sería una solución correcta? ¿Qué pasa si queremos ingresar 200 palabras?¿O 2000?"
   ]
  },
  {
   "cell_type": "markdown",
   "id": "defined-seeker",
   "metadata": {
    "slideshow": {
     "slide_type": "subslide"
    }
   },
   "source": [
    "# La  función range()\n",
    "\n",
    "- Esta función devuelve una secuencia de números enteros.\n",
    "\n",
    "- Puede tener de 1 a 3 argumentos: \n",
    "```python\n",
    "range(valor_inicial, valor_final, paso)\n",
    "```\n",
    "\n",
    "- Es posible invocarla con uno, dos o los tres argumentos."
   ]
  },
  {
   "cell_type": "code",
   "execution_count": null,
   "id": "lesbian-implementation",
   "metadata": {
    "slideshow": {
     "slide_type": "subslide"
    }
   },
   "outputs": [],
   "source": [
    "for i in range(4, 23, 3):\n",
    "    print(i, end=\"-\")"
   ]
  },
  {
   "cell_type": "markdown",
   "id": "binary-hundred",
   "metadata": {
    "slideshow": {
     "slide_type": "subslide"
    }
   },
   "source": [
    "# Entonces, una mejor forma sería:"
   ]
  },
  {
   "cell_type": "code",
   "execution_count": null,
   "id": "configured-pharmacology",
   "metadata": {
    "slideshow": {
     "slide_type": "fragment"
    }
   },
   "outputs": [],
   "source": [
    " for i in range(4):\n",
    "    cadena = input(\"Ingresa una palabra: \")\n",
    "    if \"r\" in cadena:\n",
    "        print(cadena)"
   ]
  },
  {
   "cell_type": "markdown",
   "id": "successful-disclosure",
   "metadata": {
    "slideshow": {
     "slide_type": "slide"
    }
   },
   "source": [
    "<center>\n",
    "<img src=\"imagenes/portada_video.png\" alt=\"nos vemos el martes\" style=\"width:1050px;\"/>\n",
    "</center>"
   ]
  }
 ],
 "metadata": {
  "celltoolbar": "Slideshow",
  "kernelspec": {
   "display_name": "Python 3 (ipykernel)",
   "language": "python",
   "name": "python3"
  },
  "language_info": {
   "codemirror_mode": {
    "name": "ipython",
    "version": 3
   },
   "file_extension": ".py",
   "mimetype": "text/x-python",
   "name": "python",
   "nbconvert_exporter": "python",
   "pygments_lexer": "ipython3",
   "version": "3.11.2"
  }
 },
 "nbformat": 4,
 "nbformat_minor": 5
}
