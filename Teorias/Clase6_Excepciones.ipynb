{
 "cells": [
  {
   "cell_type": "markdown",
   "id": "younger-ready",
   "metadata": {
    "slideshow": {
     "slide_type": "slide"
    }
   },
   "source": [
    "# Seminario de Lenguajes - Python\n",
    "## Cursada 2023\n",
    "### Clase 6. Introducción al manejo de excepciones en Python"
   ]
  },
  {
   "cell_type": "markdown",
   "id": "0d5e751a",
   "metadata": {
    "slideshow": {
     "slide_type": "slide"
    }
   },
   "source": [
    "# Probemos los siguientes códigos:"
   ]
  },
  {
   "cell_type": "code",
   "execution_count": null,
   "id": "31ac348d",
   "metadata": {
    "slideshow": {
     "slide_type": "fragment"
    }
   },
   "outputs": [],
   "source": [
    "#archivo = open(\"pppppppp.txt\")"
   ]
  },
  {
   "cell_type": "code",
   "execution_count": null,
   "id": "0b2e6f5c",
   "metadata": {
    "slideshow": {
     "slide_type": "fragment"
    }
   },
   "outputs": [],
   "source": [
    "mis_notas = (10, 7, 7)\n",
    "#mis_notas[0] = 11111\n",
    "#print(mis_notas[5])"
   ]
  },
  {
   "cell_type": "markdown",
   "id": "66eccf65",
   "metadata": {
    "slideshow": {
     "slide_type": "fragment"
    }
   },
   "source": [
    "## ¡Esto no puede pasar nunca en nuestros programas!"
   ]
  },
  {
   "cell_type": "markdown",
   "id": "25b60448",
   "metadata": {
    "slideshow": {
     "slide_type": "subslide"
    }
   },
   "source": [
    "# ¿Qué es un excepción?"
   ]
  },
  {
   "cell_type": "markdown",
   "id": "641c0e68",
   "metadata": {
    "slideshow": {
     "slide_type": "fragment"
    }
   },
   "source": [
    "> Una **excepción** es un acontecimiento, que ocurre **durante la ejecución** de un programa, que **interrumpe** el **flujo normal** de las instrucciones del programa. "
   ]
  },
  {
   "cell_type": "markdown",
   "id": "ac6725c7",
   "metadata": {
    "slideshow": {
     "slide_type": "subslide"
    }
   },
   "source": [
    "# ¿Qué situaciones pueden producir excepciones?\n",
    "\n",
    "- Abrir un archivo que no existe o  donde no tenemos permisos adecuados.\n",
    "- Acceder a un elemento de un diccionario con una clave que no existe.\n",
    "- Invocar a un método o función que no fue definida.\n",
    "- Referirse a una variable que no fue definida.\n",
    "- Mezclar tipos de datos sin convertirlos previamente.\n",
    "- Etc."
   ]
  },
  {
   "cell_type": "markdown",
   "id": "aa09de9b",
   "metadata": {
    "slideshow": {
     "slide_type": "subslide"
    }
   },
   "source": [
    "# Excepciones \"sin manejar\"\n",
    "\n",
    "<center>\n",
    "<img src=\"imagenes/excepciones_inicio.png\" alt=\"excepciones\" style=\"width:850px;\"/>\n",
    "</center>"
   ]
  },
  {
   "cell_type": "markdown",
   "id": "cae97ea3",
   "metadata": {
    "slideshow": {
     "slide_type": "subslide"
    }
   },
   "source": [
    "# ¿Qué debemos investigar para trabajar con  excepciones?\n",
    "\n",
    "Primero: ¿el lenguaje de programación tiene soporte para el manejo de excepciones?\n",
    "   - Si no presenta ningún mecanísmo para esto, podríamos simularlo con otros recursos. Ejemplo: Pascal o C.\n",
    "   - Si provee mecanismos para el manejo de excepciones: ¿cuáles? Ejemplo: **Python**, Javascript, Java, Ruby, etc."
   ]
  },
  {
   "cell_type": "markdown",
   "id": "f4bb026c",
   "metadata": {
    "slideshow": {
     "slide_type": "subslide"
    }
   },
   "source": [
    "## Si el lenguaje provee manejo de  excepciones...\n",
    "\n",
    "- ¿Qué acción se toma después de levantada y manejada una excepción? ¿Se continúa con la ejecución de la unidad que lo provocó o se termina?\n",
    "- ¿Cómo se alcanza una excepción? \n",
    "- ¿Cómo se definen los manejadores de excepciones?\n",
    "- ¿Qué sucede cuando no se encuentra un manejador para una excepción levantada?\n",
    "- ¿El lenguaje tiene excepciones predefinidas?\n",
    "- ¿Podemos levantar en forma explícita una excepción?\n",
    "- ¿Podemos crear nuestras propias excepciones?"
   ]
  },
  {
   "cell_type": "markdown",
   "id": "e4c05b12",
   "metadata": {
    "slideshow": {
     "slide_type": "slide"
    }
   },
   "source": [
    "# Excepciones en Python\n",
    "\n",
    "Se utiliza el bloque **try: except:**\n",
    "\n",
    "```python\n",
    "\n",
    "try:\n",
    "    sentencias\n",
    "except nombreExcepción:\n",
    "    sentencias\n",
    "except nombreExcepción:\n",
    "    sentencias\n",
    "except:\n",
    "```\n",
    "\n",
    "- [+Info](https://docs.python.org/3/library/exceptions.html)"
   ]
  },
  {
   "cell_type": "markdown",
   "id": "f80b18f0",
   "metadata": {
    "slideshow": {
     "slide_type": "subslide"
    }
   },
   "source": [
    "# Veamos un ejemplo"
   ]
  },
  {
   "cell_type": "code",
   "execution_count": null,
   "id": "d77739a8",
   "metadata": {
    "slideshow": {
     "slide_type": "fragment"
    }
   },
   "outputs": [],
   "source": [
    "x = 10\n",
    "try:\n",
    "    print(XX)\n",
    "except NameError:\n",
    "    print(\"Usaste una variable que no está definida\")"
   ]
  },
  {
   "cell_type": "markdown",
   "id": "6eae0fee",
   "metadata": {
    "slideshow": {
     "slide_type": "subslide"
    }
   },
   "source": [
    "## Analicemos el siguiente código:"
   ]
  },
  {
   "cell_type": "code",
   "execution_count": null,
   "id": "34c7a69c",
   "metadata": {
    "slideshow": {
     "slide_type": "fragment"
    }
   },
   "outputs": [],
   "source": [
    "mi_musica = {70: [\"Stairway to heaven\", \"Bohemian Rhapsody\"],\n",
    "             80: [\"Dancing in the dark\", \"Welcome to the jungle\", \"Under pressure\"],\n",
    "             2000:[\"Given up\", \"The pretender\"]}\n",
    "\n",
    "tema = input(\"Ingresá un nuevo tema: \")\n",
    "decada = int(input(\"ingresá a qué década pertenece: \"))\n",
    "mi_musica[decada].append(tema)"
   ]
  },
  {
   "cell_type": "markdown",
   "id": "d06caded",
   "metadata": {
    "slideshow": {
     "slide_type": "fragment"
    }
   },
   "source": [
    "- ¿Cuándo se puede producir una excepción en este código?\n",
    "- ¿Qué excepciones se pueden producir?\n",
    "- ¿Dónde ubicamos las sentencias que **manejen** estas excepciones?"
   ]
  },
  {
   "cell_type": "markdown",
   "id": "7998304d",
   "metadata": {
    "slideshow": {
     "slide_type": "subslide"
    }
   },
   "source": [
    "# Agregamos los manejadores"
   ]
  },
  {
   "cell_type": "code",
   "execution_count": null,
   "id": "049aea61",
   "metadata": {
    "slideshow": {
     "slide_type": "fragment"
    }
   },
   "outputs": [],
   "source": [
    "mi_musica = {70: [\"Stairway to heaven\", \"Bohemian Rhapsody\"],\n",
    "             80: [\"Dancing in the dark\", \"Welcome to the jungle\", \"Under pressure\"],\n",
    "             2000:[\"Given up\", \"The pretender\"]}\n",
    "\n",
    "tema = input(\"Ingresá un nuevo tema: \")\n",
    "\n",
    "try:\n",
    "    decada = int(input(\"ingresá a qué década pertenece: \"))\n",
    "    mi_musica[decada].append(tema)\n",
    "except ValueError:\n",
    "    print(\"Para ingresar la decada, tenés que ingresar un número.\")\n",
    "except KeyError:\n",
    "    print(\"Por ahora, sólo tengo registradas las décadas: 70, 80 y 2000. Ingresá una de ellas. \")\n"
   ]
  },
  {
   "cell_type": "markdown",
   "id": "aff529a8",
   "metadata": {
    "slideshow": {
     "slide_type": "fragment"
    }
   },
   "source": [
    "- Ahora el programa no se **rompe**."
   ]
  },
  {
   "cell_type": "markdown",
   "id": "0ccff77d",
   "metadata": {
    "slideshow": {
     "slide_type": "subslide"
    }
   },
   "source": [
    "### ¿Qué podemos decir del siguiente ejemplo? ¿Dónde pondríamos los manejadores?"
   ]
  },
  {
   "cell_type": "code",
   "execution_count": null,
   "id": "ce1faa8f",
   "metadata": {
    "slideshow": {
     "slide_type": "fragment"
    }
   },
   "outputs": [],
   "source": [
    "mi_musica = {70: [\"Stairway to heaven\", \"Bohemian Rhapsody\"],\n",
    "             80: [\"Dancing in the dark\", \"Welcome to the jungle\", \"Under pressure\"],\n",
    "             2000:[\"Given up\", \"The pretender\"]}\n",
    "\n",
    "tema = input(\"Ingresá un nuevo tema (FIN para terminar): \")\n",
    "while tema !=\"FIN\":\n",
    "    decada = int(input(\"ingresá a qué década pertenece: \"))\n",
    "    mi_musica[decada].append(tema)\n",
    "    \n",
    "    tema = input(\"Ingresá un nuevo tema (FIN para terminar): \")\n",
    "\n",
    "print(\"Terminé de procesar mi música favorita\")"
   ]
  },
  {
   "cell_type": "markdown",
   "id": "b5010294",
   "metadata": {
    "slideshow": {
     "slide_type": "subslide"
    }
   },
   "source": [
    "# Analicemos esta propuesta:"
   ]
  },
  {
   "cell_type": "code",
   "execution_count": null,
   "id": "97ce9cd9",
   "metadata": {
    "slideshow": {
     "slide_type": "fragment"
    }
   },
   "outputs": [],
   "source": [
    "mi_musica = {70: [\"Stairway to heaven\", \"Bohemian Rhapsody\"],\n",
    "             80: [\"Dancing in the dark\", \"Welcome to the jungle\", \"Under pressure\"],\n",
    "             2000:[\"Given up\", \"The pretender\"]}\n",
    "\n",
    "tema = input(\"Ingresá un nuevo tema (FIN para terminar): \")\n",
    "try:\n",
    "    while tema !=\"FIN\":\n",
    "        decada = int(input(\"ingresá a qué década pertenece: \"))\n",
    "        mi_musica[decada].append(tema)\n",
    "\n",
    "        tema = input(\"Ingresá un nuevo tema (FIN para terminar): \")\n",
    "    print(\"Terminé de procesar mi música favorita\")\n",
    "except ValueError:\n",
    "    print(\"Para ingresar la decada, tenés que ingresar un número.\")\n",
    "except KeyError:\n",
    "    print(\"Por ahora, sólo tengo registradas las décadas: 70, 80 y 2000. Ingresá una de ellas. \")"
   ]
  },
  {
   "cell_type": "markdown",
   "id": "0f022647",
   "metadata": {
    "slideshow": {
     "slide_type": "subslide"
    }
   },
   "source": [
    "## Python FINALIZA el bloque que levanta la excepción  "
   ]
  },
  {
   "cell_type": "markdown",
   "id": "381052f0",
   "metadata": {
    "slideshow": {
     "slide_type": "fragment"
    }
   },
   "source": [
    "- ¿Cuál es el bloque que finaliza?"
   ]
  },
  {
   "cell_type": "markdown",
   "id": "dff1fafe",
   "metadata": {
    "slideshow": {
     "slide_type": "fragment"
    }
   },
   "source": [
    ">Este mecanismo se conoce como **terminación**."
   ]
  },
  {
   "cell_type": "markdown",
   "id": "aceac4dc",
   "metadata": {
    "slideshow": {
     "slide_type": "subslide"
    }
   },
   "source": [
    "# En resumen\n",
    "\n",
    "El manejo de excepciones hizo que al intentar acceder al diccionario con una clave inexistente o intentar realizar la conversión a **int** errónea:\n",
    "- el programa **no se rompa**,\n",
    "- tomamos alguna acción. En este caso, **informamos cuál es el problema** y,\n",
    "- el programa continúa con la ejecución hasta el final.\n",
    "\n",
    "Pero: **¿el while finaliza siempre con FIN?**"
   ]
  },
  {
   "cell_type": "markdown",
   "id": "d15557db",
   "metadata": {
    "slideshow": {
     "slide_type": "subslide"
    }
   },
   "source": [
    "# ¿Y si no queremos que se corte el ingreso de datos?"
   ]
  },
  {
   "cell_type": "code",
   "execution_count": null,
   "id": "a332e303",
   "metadata": {
    "slideshow": {
     "slide_type": "fragment"
    }
   },
   "outputs": [],
   "source": [
    "mi_musica = {70: [\"Stairway to heaven\", \"Bohemian Rhapsody\"],\n",
    "             80: [\"Dancing in the dark\", \"Welcome to the jungle\", \"Under pressure\"],\n",
    "             2000:[\"Given up\", \"The pretender\"]}\n",
    "\n",
    "tema = input(\"Ingresá un nuevo tema (FIN para terminar): \")\n",
    "while tema !=\"FIN\":\n",
    "    try:\n",
    "        decada = int(input(\"ingresá a qué década pertenece: \"))\n",
    "        mi_musica[decada].append(tema)\n",
    "    except ValueError:\n",
    "        print(\"Para ingresar la decada, tenés que ingresar un número. Empecemos de nuevo...\")\n",
    "    except KeyError:\n",
    "        print(\"\"\"Por ahora, sólo tengo registradas las décadas: 70, 80 y 2000. Ingresá una de ellas. \n",
    "                 Empecemos de nuevo...\"\"\")\n",
    "\n",
    "    tema = input(\"Ingresá un nuevo tema (FIN para terminar): \")\n",
    "print(\"Terminé de procesar mi música favorita\")"
   ]
  },
  {
   "cell_type": "markdown",
   "id": "103edd78",
   "metadata": {
    "slideshow": {
     "slide_type": "subslide"
    }
   },
   "source": [
    "- ¿Cuál es el bloque que finaliza su ejecución?\n",
    "- Afectamos el manejador de excepciones SOLO a la sentencia que intenta acceder el diccionario."
   ]
  },
  {
   "cell_type": "markdown",
   "id": "6bb43ce2",
   "metadata": {
    "slideshow": {
     "slide_type": "subslide"
    }
   },
   "source": [
    "# Podríamos haber  manejado de  ambas excepciones juntas:"
   ]
  },
  {
   "cell_type": "code",
   "execution_count": null,
   "id": "3a7dfa50",
   "metadata": {
    "slideshow": {
     "slide_type": "fragment"
    }
   },
   "outputs": [],
   "source": [
    "mi_musica = {70: [\"Stairway to heaven\", \"Bohemian Rhapsody\"],\n",
    "             80: [\"Dancing in the dark\", \"Welcome to the jungle\", \"Under pressure\"],\n",
    "             2000:[\"Given up\", \"The pretender\"]}\n",
    "tema = input(\"Ingresá un nuevo tema (FIN para terminar): \")\n",
    "while tema !=\"FIN\":\n",
    "    try:\n",
    "        decada = int(input(\"ingresá a qué década pertenece: \"))\n",
    "        mi_musica[decada].append(tema)\n",
    "    except (ValueError, KeyError):\n",
    "        print(\"Hubo un error en el ingreso de datos. Intentá de nuevo\")\n",
    "    except:\n",
    "        print(\"Ups! Algo ocurrió\")\n",
    "    tema = input(\"Ingresá un nuevo tema (FIN para terminar): \")\n",
    "print(\"Terminé de procesar mi música favorita\")"
   ]
  },
  {
   "cell_type": "markdown",
   "id": "76d59ed0",
   "metadata": {
    "slideshow": {
     "slide_type": "fragment"
    }
   },
   "source": [
    "- ¿Cuándo se mostraría el mensaje: \"Ups! Algo ocurrió\"?"
   ]
  },
  {
   "cell_type": "markdown",
   "id": "962b2020",
   "metadata": {
    "slideshow": {
     "slide_type": "slide"
    }
   },
   "source": [
    "# ¿Cómo buscamos el manejador?"
   ]
  },
  {
   "cell_type": "code",
   "execution_count": null,
   "id": "c1014c95",
   "metadata": {
    "slideshow": {
     "slide_type": "fragment"
    }
   },
   "outputs": [],
   "source": [
    "bandas_rock = {0:\"Led Zeppelin\", 2:\"Deep Purple\", 3:\"Black Sabbath\"}\n",
    "try:\n",
    "    for x in range(0,6):\n",
    "        try:\n",
    "            print(bandas_rock[z])      # OJO que estamos usando la variable z\n",
    "        except KeyError:\n",
    "            print(\"Ups! Parece que hubo un problema..\")\n",
    "except NameError:\n",
    "    print('OJO! Se está usando una variable que no existe')\n",
    "\n",
    "print('Sigo con mi programa....')"
   ]
  },
  {
   "cell_type": "markdown",
   "id": "3ca1fc7c",
   "metadata": {
    "slideshow": {
     "slide_type": "subslide"
    }
   },
   "source": [
    "# ¿Y en este otro caso?"
   ]
  },
  {
   "cell_type": "code",
   "execution_count": null,
   "id": "713ee956",
   "metadata": {
    "slideshow": {
     "slide_type": "fragment"
    }
   },
   "outputs": [],
   "source": [
    "def retornar_banda(indice):\n",
    "    bandas_rock = {0:\"Led Zeppelin\", 2:\"Deep Purple\", 3:\"Black Sabbath\"}\n",
    "    try:\n",
    "        return bandas_rock[indice] # OJO estamos usando una variable no definida!\n",
    "    except NameError:\n",
    "        print(\"Ups! Hay un problema con algo mal definido.\")\n",
    "\n",
    "elem = int(input('Ingresá una clave para acceder al diccionario: (999 para finalizar) '))\n",
    "while elem!=999:\n",
    "    try:\n",
    "        print (f\"El valor del elemento: {elem} es {retornar_banda(elem)}\")\n",
    "    except KeyError:\n",
    "        print(\"Usás una clave inexistente.\")\n",
    "\n",
    "    elem = int(input('Ingresá clave para acceder al diccionario: (999 para finalizar) '))\n",
    "\n",
    "print('Sigo con mi programa....')"
   ]
  },
  {
   "cell_type": "markdown",
   "id": "3f22036b",
   "metadata": {
    "slideshow": {
     "slide_type": "subslide"
    }
   },
   "source": [
    "# ¿Qué sucedió?\n",
    "\n",
    "\n",
    "- La excepción KeyError se levantó dentro de la función **retornar_elemento**.\n",
    "- **Busca estáticamene** si el bloque está encerrado en otro bloque try except.\n",
    "- Al no encontrar un manejador para esa excepción en la función ...\n",
    "- **Busca dinámicamente** a quién llamó a la función. \n",
    "- Si no encuentra un manejador... entonces termina el programa... con error."
   ]
  },
  {
   "cell_type": "markdown",
   "id": "f5f7a87a",
   "metadata": {
    "slideshow": {
     "slide_type": "subslide"
    }
   },
   "source": [
    "# ¿Cómo es la forma de **propagación** que utiliza Python?\n",
    "\n",
    "- Primero busca **estáticamente**.\n",
    "- Si no se encuentra, busca **dinámicamente** a quién llamó a la función.\n",
    "- Si no encuentra un manejador... entonces termina el programa ... con error.."
   ]
  },
  {
   "cell_type": "markdown",
   "id": "cf23de72",
   "metadata": {
    "slideshow": {
     "slide_type": "slide"
    }
   },
   "source": [
    "# Ya respondimos algunas de las preguntas iniciales:\n",
    "\n",
    "- **¿Qué acción se toma después de levantada y manejada una excepción? ¿Se continúa con la ejecución de la unidad que lo provocó o se termina?**\n",
    "- **¿Cómo se alcanza una excepción?**\n",
    "- **¿Cómo especificar los manejadores de excepciones que se deben ejecutar cuando se alcanzan las mismas?**\n",
    "- ¿Qué sucede cuando no se encuentra un manejador para una excepción levantada?\n",
    "- **¿El lenguaje tiene excepciones predefinidas?**\n",
    "- ¿Podemos levantar en forma explícita una excepción?\n",
    "- ¿Podemos crear nuestras propias excepciones?"
   ]
  },
  {
   "cell_type": "markdown",
   "id": "34c7aa41",
   "metadata": {
    "slideshow": {
     "slide_type": "slide"
    }
   },
   "source": [
    "# Desafío\n",
    "\n",
    "> Analizar el código del [visualizador de csv](ejemplos/clase5/GUI/demo3.py) que vimos la clase pasada respecto al manejo de excepciones que realiza. "
   ]
  },
  {
   "cell_type": "markdown",
   "id": "d9e94368",
   "metadata": {
    "slideshow": {
     "slide_type": "slide"
    }
   },
   "source": [
    "# En realidad... la sentencia completa es:\n",
    "\n",
    "```python\n",
    "try:\n",
    "    sentencias\n",
    "except excepcion1:\n",
    "    sentencias\n",
    "except:\n",
    "    sentencias\n",
    "else:\n",
    "    sentencias\n",
    "finally:\n",
    "    sentencias\n",
    "    \n",
    "```"
   ]
  },
  {
   "cell_type": "markdown",
   "id": "6fd8b1f2",
   "metadata": {
    "slideshow": {
     "slide_type": "subslide"
    }
   },
   "source": [
    "# Tarea para el hogar:\n",
    "\n",
    "- Investigar para qué se utilizan las cláusulas **finally** y **else** en el bloque try.. except"
   ]
  },
  {
   "cell_type": "markdown",
   "id": "ca2841d5",
   "metadata": {
    "slideshow": {
     "slide_type": "slide"
    }
   },
   "source": [
    "#  Seguimos la próxima ..."
   ]
  }
 ],
 "metadata": {
  "celltoolbar": "Slideshow",
  "kernelspec": {
   "display_name": "Python 3 (ipykernel)",
   "language": "python",
   "name": "python3"
  },
  "language_info": {
   "codemirror_mode": {
    "name": "ipython",
    "version": 3
   },
   "file_extension": ".py",
   "mimetype": "text/x-python",
   "name": "python",
   "nbconvert_exporter": "python",
   "pygments_lexer": "ipython3",
   "version": "3.11.3"
  }
 },
 "nbformat": 4,
 "nbformat_minor": 5
}
